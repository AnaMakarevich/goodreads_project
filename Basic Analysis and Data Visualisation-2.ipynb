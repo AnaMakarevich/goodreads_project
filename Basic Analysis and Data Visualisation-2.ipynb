{
 "cells": [
  {
   "cell_type": "markdown",
   "metadata": {},
   "source": [
    "# Basic Exploratory Analysis and Visualisation"
   ]
  },
  {
   "cell_type": "code",
   "execution_count": 1,
   "metadata": {},
   "outputs": [],
   "source": [
    "import os, sys, inspect\n",
    "currentdir = os.path.dirname(os.path.abspath(inspect.getfile(inspect.currentframe())))\n",
    "parentdir = os.path.dirname(currentdir)\n",
    "sys.path.insert(0, parentdir)\n",
    "from database_utils import get_query_results"
   ]
  },
  {
   "cell_type": "code",
   "execution_count": 2,
   "metadata": {},
   "outputs": [
    {
     "data": {
      "text/html": [
       "<script>requirejs.config({paths: { 'plotly': ['https://cdn.plot.ly/plotly-latest.min']},});if(!window.Plotly) {{require(['plotly'],function(plotly) {window.Plotly=plotly;});}}</script>"
      ],
      "text/vnd.plotly.v1+html": [
       "<script>requirejs.config({paths: { 'plotly': ['https://cdn.plot.ly/plotly-latest.min']},});if(!window.Plotly) {{require(['plotly'],function(plotly) {window.Plotly=plotly;});}}</script>"
      ]
     },
     "metadata": {},
     "output_type": "display_data"
    }
   ],
   "source": [
    "from IPython.display import Image\n",
    "from IPython.core.display import HTML \n",
    "import numpy as np\n",
    "import pandas as pd\n",
    "import matplotlib.pyplot as plt\n",
    "import plotly.graph_objs as go\n",
    "import plotly.plotly as py\n",
    "from plotly import tools\n",
    "from plotly import __version__\n",
    "from plotly.offline import download_plotlyjs, init_notebook_mode, plot, iplot\n",
    "init_notebook_mode(connected=True)"
   ]
  },
  {
   "cell_type": "markdown",
   "metadata": {},
   "source": [
    "## Summary table"
   ]
  },
  {
   "cell_type": "markdown",
   "metadata": {},
   "source": [
    "The basic analysis was performed by Peter Lipp using the created database and SQL queries. Below is the summary table that was used for reference for further visualisations: "
   ]
  },
  {
   "cell_type": "code",
   "execution_count": 3,
   "metadata": {},
   "outputs": [
    {
     "data": {
      "text/html": [
       "<img src=\"goal_view.jpg\"/>"
      ],
      "text/plain": [
       "<IPython.core.display.Image object>"
      ]
     },
     "execution_count": 3,
     "metadata": {},
     "output_type": "execute_result"
    }
   ],
   "source": [
    "Image(url= \"goal_view.jpg\")"
   ]
  },
  {
   "cell_type": "markdown",
   "metadata": {},
   "source": [
    "Get relevant data: \n",
    "- counts of books by club and genre  \n",
    "- counts of boks by book club (so that we can caluclate percentages  "
   ]
  },
  {
   "cell_type": "code",
   "execution_count": 7,
   "metadata": {},
   "outputs": [],
   "source": [
    "q = \"\"\"\n",
    "SELECT bc.club_name, g.name, count(*) cnt\n",
    "FROM book b\n",
    "JOIN genre_book gb ON b.book_id = gb.book_id\n",
    "RIGHT JOIN genre g ON gb.genre_id = g.genre_id\n",
    "JOIN book_club_book bcb ON bcb.book_id = b.book_id\n",
    "JOIN book_club bc ON bc.book_club_id = bcb.book_club_id\n",
    "GROUP BY bc.club_name, g.name \n",
    "\"\"\"\n",
    "q2 = \"\"\"\n",
    "SELECT bc.club_name, count(*) cnt\n",
    "FROM book b\n",
    "JOIN book_club_book bcb ON bcb.book_id = b.book_id\n",
    "JOIN book_club bc ON bc.book_club_id = bcb.book_club_id\n",
    "GROUP BY bc.club_name\n",
    "ORDER BY bc.club_name\n",
    "\"\"\"\n",
    "by_genre = get_query_results(q)\n",
    "counts = get_query_results(q2)"
   ]
  },
  {
   "cell_type": "markdown",
   "metadata": {},
   "source": [
    "Now we need to write a function that will calculate percentages for arbitrary genres we select and that should account for the fact that sometimes there are 0 book for bookclub-genre pair. "
   ]
  },
  {
   "cell_type": "code",
   "execution_count": 16,
   "metadata": {},
   "outputs": [
    {
     "data": {
      "text/plain": [
       "0    31.0\n",
       "1     0.0\n",
       "2    19.0\n",
       "3    20.0\n",
       "Name: cnt, dtype: float64"
      ]
     },
     "execution_count": 16,
     "metadata": {},
     "output_type": "execute_result"
    }
   ],
   "source": [
    "def get_percentages(genre_name: str, by_genre: pd.DataFrame, counts: pd.DataFrame) -> pd.Series:\n",
    "    cndf = pd.DataFrame({'club_name':club_names})\n",
    "    single_genre = by_genre[by_genre.name == genre_name]\n",
    "    return np.round(cndf.merge(single_genre, how='left').fillna(0).sort_values(by='club_name').cnt/counts.cnt*100)\n",
    "get_list('non-fiction', by_genre,counts)"
   ]
  },
  {
   "cell_type": "markdown",
   "metadata": {},
   "source": [
    "Also let's prepare a list of book clubs so that we have it at hand all the time:"
   ]
  },
  {
   "cell_type": "code",
   "execution_count": 17,
   "metadata": {},
   "outputs": [
    {
     "data": {
      "text/plain": [
       "['Bertelsmann Data Science book readers',\n",
       " 'Gone with a Book',\n",
       " \"Pop Sugar's Annual Ultimate Reading Challenge\",\n",
       " 'Reading with Style']"
      ]
     },
     "execution_count": 17,
     "metadata": {},
     "output_type": "execute_result"
    }
   ],
   "source": [
    "club_names = list(get_query_results(\"SELECT * FROM book_club\").club_name)\n",
    "club_names"
   ]
  },
  {
   "cell_type": "markdown",
   "metadata": {},
   "source": [
    "## Visualisations "
   ]
  },
  {
   "cell_type": "markdown",
   "metadata": {},
   "source": [
    "### Fiction vs Non-fiction"
   ]
  },
  {
   "cell_type": "markdown",
   "metadata": {},
   "source": [
    "The first visualisation we can make here is fiction vs non-fiction books across different book clubs. "
   ]
  },
  {
   "cell_type": "code",
   "execution_count": 25,
   "metadata": {},
   "outputs": [
    {
     "data": {
      "application/vnd.plotly.v1+json": {
       "data": [
        {
         "name": "fiction",
         "type": "bar",
         "uid": "782e5824-8b53-11e8-8983-0209357db094",
         "x": [
          "Bertelsmann Data Science book readers",
          "Gone with a Book",
          "Pop Sugar's Annual Ultimate Reading Challenge",
          "Reading with Style"
         ],
         "y": [
          75,
          100,
          85,
          86
         ]
        },
        {
         "name": "non-fiction",
         "type": "bar",
         "uid": "782e5825-8b53-11e8-8983-0209357db094",
         "x": [
          "Bertelsmann Data Science book readers",
          "Gone with a Book",
          "Pop Sugar's Annual Ultimate Reading Challenge",
          "Reading with Style"
         ],
         "y": [
          31,
          0,
          19,
          20
         ]
        }
       ],
       "layout": {
        "barmode": "group",
        "margin": {
         "b": 150
        },
        "xaxis": {
         "tickangle": 25
        }
       }
      },
      "text/html": [
       "<div id=\"2dd13e96-5f4d-4fbd-b6ad-42346b3a6f4c\" style=\"height: 525px; width: 100%;\" class=\"plotly-graph-div\"></div><script type=\"text/javascript\">require([\"plotly\"], function(Plotly) { window.PLOTLYENV=window.PLOTLYENV || {};window.PLOTLYENV.BASE_URL=\"https://plot.ly\";\n",
       "        Plotly.plot(\n",
       "            '2dd13e96-5f4d-4fbd-b6ad-42346b3a6f4c',\n",
       "            [{\"name\": \"fiction\", \"x\": [\"Bertelsmann Data Science book readers\", \"Gone with a Book\", \"Pop Sugar's Annual Ultimate Reading Challenge\", \"Reading with Style\"], \"y\": [75.0, 100.0, 85.0, 86.0], \"type\": \"bar\", \"uid\": \"782e5824-8b53-11e8-8983-0209357db094\"}, {\"name\": \"non-fiction\", \"x\": [\"Bertelsmann Data Science book readers\", \"Gone with a Book\", \"Pop Sugar's Annual Ultimate Reading Challenge\", \"Reading with Style\"], \"y\": [31.0, 0.0, 19.0, 20.0], \"type\": \"bar\", \"uid\": \"782e5825-8b53-11e8-8983-0209357db094\"}],\n",
       "            {\"barmode\": \"group\", \"margin\": {\"b\": 150}, \"xaxis\": {\"tickangle\": 25}},\n",
       "            {\"showLink\": false, \"linkText\": \"Export to plot.ly\"}\n",
       "        ).then(function () {return Plotly.addFrames('2dd13e96-5f4d-4fbd-b6ad-42346b3a6f4c',{});}).then(function(){Plotly.animate('2dd13e96-5f4d-4fbd-b6ad-42346b3a6f4c');})\n",
       "        });</script>"
      ],
      "text/vnd.plotly.v1+html": [
       "<div id=\"2dd13e96-5f4d-4fbd-b6ad-42346b3a6f4c\" style=\"height: 525px; width: 100%;\" class=\"plotly-graph-div\"></div><script type=\"text/javascript\">require([\"plotly\"], function(Plotly) { window.PLOTLYENV=window.PLOTLYENV || {};window.PLOTLYENV.BASE_URL=\"https://plot.ly\";\n",
       "        Plotly.plot(\n",
       "            '2dd13e96-5f4d-4fbd-b6ad-42346b3a6f4c',\n",
       "            [{\"name\": \"fiction\", \"x\": [\"Bertelsmann Data Science book readers\", \"Gone with a Book\", \"Pop Sugar's Annual Ultimate Reading Challenge\", \"Reading with Style\"], \"y\": [75.0, 100.0, 85.0, 86.0], \"type\": \"bar\", \"uid\": \"782e5824-8b53-11e8-8983-0209357db094\"}, {\"name\": \"non-fiction\", \"x\": [\"Bertelsmann Data Science book readers\", \"Gone with a Book\", \"Pop Sugar's Annual Ultimate Reading Challenge\", \"Reading with Style\"], \"y\": [31.0, 0.0, 19.0, 20.0], \"type\": \"bar\", \"uid\": \"782e5825-8b53-11e8-8983-0209357db094\"}],\n",
       "            {\"barmode\": \"group\", \"margin\": {\"b\": 150}, \"xaxis\": {\"tickangle\": 25}},\n",
       "            {\"showLink\": false, \"linkText\": \"Export to plot.ly\"}\n",
       "        ).then(function () {return Plotly.addFrames('2dd13e96-5f4d-4fbd-b6ad-42346b3a6f4c',{});}).then(function(){Plotly.animate('2dd13e96-5f4d-4fbd-b6ad-42346b3a6f4c');})\n",
       "        });</script>"
      ]
     },
     "metadata": {},
     "output_type": "display_data"
    },
    {
     "data": {
      "text/html": [
       "<img src=\"fiction_nonfiction.png\"/>"
      ],
      "text/plain": [
       "<IPython.core.display.Image object>"
      ]
     },
     "execution_count": 25,
     "metadata": {},
     "output_type": "execute_result"
    }
   ],
   "source": [
    "genres_list = ['fiction', 'non-fiction']\n",
    "data = [go.Bar(\n",
    "        x=club_names,\n",
    "        y=get_list(genre, by_genre,counts),\n",
    "        name=genre) for genre in genres_list]\n",
    "layout = go.Layout(\n",
    "    margin = dict(b=150),\n",
    "    xaxis = dict(tickangle = 25),\n",
    "    barmode='group'\n",
    ")\n",
    "\n",
    "fig = go.Figure(data=data, layout=layout)\n",
    "iplot(fig, filename='grouped-bar',config={'showLink': False})\n",
    "# show image result because Github doesn't render plotly figures \n",
    "Image(url='fiction_nonfiction.png')"
   ]
  },
  {
   "cell_type": "markdown",
   "metadata": {},
   "source": [
    "### Classics, Fantasy, History, Science Fiction and Romance"
   ]
  },
  {
   "cell_type": "markdown",
   "metadata": {},
   "source": [
    "Next, let's visualise the second section of the table for 5 genres: \n",
    "- classis\n",
    "- fantasy\n",
    "- history \n",
    "- science-fiction\n",
    "- romance"
   ]
  },
  {
   "cell_type": "code",
   "execution_count": 34,
   "metadata": {},
   "outputs": [
    {
     "data": {
      "application/vnd.plotly.v1+json": {
       "data": [
        {
         "name": "classics",
         "type": "bar",
         "uid": "1a495398-8b54-11e8-8983-0209357db094",
         "x": [
          "Bertelsmann Data Science book readers",
          "Gone with a Book",
          "Pop Sugar's Annual Ultimate Reading Challenge",
          "Reading with Style"
         ],
         "y": [
          44,
          41,
          28,
          35
         ]
        },
        {
         "name": "fantasy",
         "type": "bar",
         "uid": "1a495399-8b54-11e8-8983-0209357db094",
         "x": [
          "Bertelsmann Data Science book readers",
          "Gone with a Book",
          "Pop Sugar's Annual Ultimate Reading Challenge",
          "Reading with Style"
         ],
         "y": [
          38,
          35,
          39,
          17
         ]
        },
        {
         "name": "history",
         "type": "bar",
         "uid": "1a49539a-8b54-11e8-8983-0209357db094",
         "x": [
          "Bertelsmann Data Science book readers",
          "Gone with a Book",
          "Pop Sugar's Annual Ultimate Reading Challenge",
          "Reading with Style"
         ],
         "y": [
          28,
          41,
          28,
          37
         ]
        },
        {
         "name": "science-fiction",
         "type": "bar",
         "uid": "1a49539b-8b54-11e8-8983-0209357db094",
         "x": [
          "Bertelsmann Data Science book readers",
          "Gone with a Book",
          "Pop Sugar's Annual Ultimate Reading Challenge",
          "Reading with Style"
         ],
         "y": [
          27,
          24,
          23,
          10
         ]
        },
        {
         "name": "romance",
         "type": "bar",
         "uid": "1a49539c-8b54-11e8-8983-0209357db094",
         "x": [
          "Bertelsmann Data Science book readers",
          "Gone with a Book",
          "Pop Sugar's Annual Ultimate Reading Challenge",
          "Reading with Style"
         ],
         "y": [
          14,
          35,
          24,
          12
         ]
        }
       ],
       "layout": {
        "barmode": "group",
        "margin": {
         "b": 150
        },
        "xaxis": {
         "tickangle": 25
        }
       }
      },
      "text/html": [
       "<div id=\"45581632-d225-4826-98b3-a96b9cb2108b\" style=\"height: 525px; width: 100%;\" class=\"plotly-graph-div\"></div><script type=\"text/javascript\">require([\"plotly\"], function(Plotly) { window.PLOTLYENV=window.PLOTLYENV || {};window.PLOTLYENV.BASE_URL=\"https://plot.ly\";\n",
       "        Plotly.plot(\n",
       "            '45581632-d225-4826-98b3-a96b9cb2108b',\n",
       "            [{\"name\": \"classics\", \"x\": [\"Bertelsmann Data Science book readers\", \"Gone with a Book\", \"Pop Sugar's Annual Ultimate Reading Challenge\", \"Reading with Style\"], \"y\": [44.0, 41.0, 28.0, 35.0], \"type\": \"bar\", \"uid\": \"1a495398-8b54-11e8-8983-0209357db094\"}, {\"name\": \"fantasy\", \"x\": [\"Bertelsmann Data Science book readers\", \"Gone with a Book\", \"Pop Sugar's Annual Ultimate Reading Challenge\", \"Reading with Style\"], \"y\": [38.0, 35.0, 39.0, 17.0], \"type\": \"bar\", \"uid\": \"1a495399-8b54-11e8-8983-0209357db094\"}, {\"name\": \"history\", \"x\": [\"Bertelsmann Data Science book readers\", \"Gone with a Book\", \"Pop Sugar's Annual Ultimate Reading Challenge\", \"Reading with Style\"], \"y\": [28.0, 41.0, 28.0, 37.0], \"type\": \"bar\", \"uid\": \"1a49539a-8b54-11e8-8983-0209357db094\"}, {\"name\": \"science-fiction\", \"x\": [\"Bertelsmann Data Science book readers\", \"Gone with a Book\", \"Pop Sugar's Annual Ultimate Reading Challenge\", \"Reading with Style\"], \"y\": [27.0, 24.0, 23.0, 10.0], \"type\": \"bar\", \"uid\": \"1a49539b-8b54-11e8-8983-0209357db094\"}, {\"name\": \"romance\", \"x\": [\"Bertelsmann Data Science book readers\", \"Gone with a Book\", \"Pop Sugar's Annual Ultimate Reading Challenge\", \"Reading with Style\"], \"y\": [14.0, 35.0, 24.0, 12.0], \"type\": \"bar\", \"uid\": \"1a49539c-8b54-11e8-8983-0209357db094\"}],\n",
       "            {\"barmode\": \"group\", \"margin\": {\"b\": 150}, \"xaxis\": {\"tickangle\": 25}},\n",
       "            {\"showLink\": false, \"linkText\": \"Export to plot.ly\"}\n",
       "        ).then(function () {return Plotly.addFrames('45581632-d225-4826-98b3-a96b9cb2108b',{});}).then(function(){Plotly.animate('45581632-d225-4826-98b3-a96b9cb2108b');})\n",
       "        });</script>"
      ],
      "text/vnd.plotly.v1+html": [
       "<div id=\"45581632-d225-4826-98b3-a96b9cb2108b\" style=\"height: 525px; width: 100%;\" class=\"plotly-graph-div\"></div><script type=\"text/javascript\">require([\"plotly\"], function(Plotly) { window.PLOTLYENV=window.PLOTLYENV || {};window.PLOTLYENV.BASE_URL=\"https://plot.ly\";\n",
       "        Plotly.plot(\n",
       "            '45581632-d225-4826-98b3-a96b9cb2108b',\n",
       "            [{\"name\": \"classics\", \"x\": [\"Bertelsmann Data Science book readers\", \"Gone with a Book\", \"Pop Sugar's Annual Ultimate Reading Challenge\", \"Reading with Style\"], \"y\": [44.0, 41.0, 28.0, 35.0], \"type\": \"bar\", \"uid\": \"1a495398-8b54-11e8-8983-0209357db094\"}, {\"name\": \"fantasy\", \"x\": [\"Bertelsmann Data Science book readers\", \"Gone with a Book\", \"Pop Sugar's Annual Ultimate Reading Challenge\", \"Reading with Style\"], \"y\": [38.0, 35.0, 39.0, 17.0], \"type\": \"bar\", \"uid\": \"1a495399-8b54-11e8-8983-0209357db094\"}, {\"name\": \"history\", \"x\": [\"Bertelsmann Data Science book readers\", \"Gone with a Book\", \"Pop Sugar's Annual Ultimate Reading Challenge\", \"Reading with Style\"], \"y\": [28.0, 41.0, 28.0, 37.0], \"type\": \"bar\", \"uid\": \"1a49539a-8b54-11e8-8983-0209357db094\"}, {\"name\": \"science-fiction\", \"x\": [\"Bertelsmann Data Science book readers\", \"Gone with a Book\", \"Pop Sugar's Annual Ultimate Reading Challenge\", \"Reading with Style\"], \"y\": [27.0, 24.0, 23.0, 10.0], \"type\": \"bar\", \"uid\": \"1a49539b-8b54-11e8-8983-0209357db094\"}, {\"name\": \"romance\", \"x\": [\"Bertelsmann Data Science book readers\", \"Gone with a Book\", \"Pop Sugar's Annual Ultimate Reading Challenge\", \"Reading with Style\"], \"y\": [14.0, 35.0, 24.0, 12.0], \"type\": \"bar\", \"uid\": \"1a49539c-8b54-11e8-8983-0209357db094\"}],\n",
       "            {\"barmode\": \"group\", \"margin\": {\"b\": 150}, \"xaxis\": {\"tickangle\": 25}},\n",
       "            {\"showLink\": false, \"linkText\": \"Export to plot.ly\"}\n",
       "        ).then(function () {return Plotly.addFrames('45581632-d225-4826-98b3-a96b9cb2108b',{});}).then(function(){Plotly.animate('45581632-d225-4826-98b3-a96b9cb2108b');})\n",
       "        });</script>"
      ]
     },
     "metadata": {},
     "output_type": "display_data"
    },
    {
     "data": {
      "text/html": [
       "<img src=\"five_genres.png\"/>"
      ],
      "text/plain": [
       "<IPython.core.display.Image object>"
      ]
     },
     "execution_count": 34,
     "metadata": {},
     "output_type": "execute_result"
    }
   ],
   "source": [
    "genres_list = ['classics', 'fantasy', 'history', 'science-fiction', 'romance']\n",
    "data = [go.Bar(\n",
    "        x=club_names,\n",
    "        y=get_list(genre, by_genre,counts),\n",
    "        name=genre) for genre in genres_list]\n",
    "layout = go.Layout(\n",
    "    margin = dict(b=150),\n",
    "    xaxis = dict(tickangle = 25),    \n",
    "    barmode='group'\n",
    ")\n",
    "\n",
    "fig = go.Figure(data=data, layout=layout)\n",
    "iplot(fig, filename='grouped-bar',config={'showLink': False})\n",
    "\n",
    "# show image result because Github doesn't render plotly figures \n",
    "Image(url='five_genres.png')"
   ]
  },
  {
   "cell_type": "markdown",
   "metadata": {},
   "source": [
    "## Bertelsmann vs other groups"
   ]
  },
  {
   "cell_type": "markdown",
   "metadata": {},
   "source": [
    "Now let's try to summarize everything on one plot. First, we will select all the genres used in the summary table: "
   ]
  },
  {
   "cell_type": "code",
   "execution_count": 41,
   "metadata": {},
   "outputs": [],
   "source": [
    "genres_list = ['fiction', 'non-fiction','classics','fantasy', 'history', 'science-fiction', 'romance',\n",
    "               'adult', 'young-adult','personal-development', 'philosophy']"
   ]
  },
  {
   "cell_type": "markdown",
   "metadata": {},
   "source": [
    "Create 2 subsets for each of the data frame by separating Bertelsmann records from non-Bertelsmann: "
   ]
  },
  {
   "cell_type": "code",
   "execution_count": 42,
   "metadata": {},
   "outputs": [],
   "source": [
    "selvec = 'Bertelsmann Data Science book readers'\n",
    "bert = by_genre[by_genre.club_name == selvec][['name','cnt']]\n",
    "nonbert = by_genre[by_genre.club_name != selvec].groupby(by='name').sum().reset_index()\n",
    "counts_bert = counts[counts.club_name == selvec].cnt.sum()\n",
    "counts_nonbert = counts[counts.club_name != selvec].cnt.sum()"
   ]
  },
  {
   "cell_type": "markdown",
   "metadata": {},
   "source": [
    "Now we can use these subsets to calculate percentages from the corresponding totals:"
   ]
  },
  {
   "cell_type": "code",
   "execution_count": 70,
   "metadata": {},
   "outputs": [],
   "source": [
    "genres = pd.DataFrame({'name': genres_list})\n",
    "bert_df = pd.merge(genres, bert[bert.name.apply(lambda x: x in genres_list)]\n",
    "                                       .sort_values(by='name'),how='left').fillna(0)\n",
    "nonbert_df = pd.merge(genres, nonbert[nonbert.name.apply(lambda x: x in genres_list)]\n",
    "                                  .sort_values(by='name'), how='left').fillna(0)\n",
    "bert_df['perc'] = np.round((bert_df.cnt/counts_bert)*100)\n",
    "nonbert_df['perc'] = np.round((nonbert_df.cnt/counts_nonbert)*100)"
   ]
  },
  {
   "cell_type": "markdown",
   "metadata": {},
   "source": [
    "And we can finally plot that: "
   ]
  },
  {
   "cell_type": "code",
   "execution_count": 71,
   "metadata": {},
   "outputs": [
    {
     "data": {
      "application/vnd.plotly.v1+json": {
       "data": [
        {
         "name": "Bertelsmann DS book club",
         "type": "bar",
         "uid": "5e2061b2-90cf-11e8-8983-0209357db094",
         "x": [
          "adult",
          "classics",
          "fantasy",
          "fiction",
          "history",
          "non-fiction",
          "personal-development",
          "philosophy",
          "romance",
          "science-fiction",
          "young-adult"
         ],
         "y": [
          24,
          44,
          38,
          75,
          28,
          31,
          13,
          24,
          14,
          27,
          20
         ]
        },
        {
         "name": "Other clubs",
         "type": "bar",
         "uid": "5e2061b3-90cf-11e8-8983-0209357db094",
         "x": [
          "adult",
          "classics",
          "fantasy",
          "fiction",
          "history",
          "non-fiction",
          "personal-development",
          "philosophy",
          "romance",
          "science-fiction",
          "young-adult"
         ],
         "y": [
          33,
          33,
          25,
          86,
          34,
          19,
          0,
          0,
          17,
          15,
          16
         ]
        }
       ],
       "layout": {
        "barmode": "group"
       }
      },
      "text/html": [
       "<div id=\"9765a626-89d7-4bd0-914a-b04f9d320b7c\" style=\"height: 525px; width: 100%;\" class=\"plotly-graph-div\"></div><script type=\"text/javascript\">require([\"plotly\"], function(Plotly) { window.PLOTLYENV=window.PLOTLYENV || {};window.PLOTLYENV.BASE_URL=\"https://plot.ly\";\n",
       "        Plotly.plot(\n",
       "            '9765a626-89d7-4bd0-914a-b04f9d320b7c',\n",
       "            [{\"name\": \"Bertelsmann DS book club\", \"x\": [\"adult\", \"classics\", \"fantasy\", \"fiction\", \"history\", \"non-fiction\", \"personal-development\", \"philosophy\", \"romance\", \"science-fiction\", \"young-adult\"], \"y\": [24.0, 44.0, 38.0, 75.0, 28.0, 31.0, 13.0, 24.0, 14.0, 27.0, 20.0], \"type\": \"bar\", \"uid\": \"5e2061b2-90cf-11e8-8983-0209357db094\"}, {\"name\": \"Other clubs\", \"x\": [\"adult\", \"classics\", \"fantasy\", \"fiction\", \"history\", \"non-fiction\", \"personal-development\", \"philosophy\", \"romance\", \"science-fiction\", \"young-adult\"], \"y\": [33.0, 33.0, 25.0, 86.0, 34.0, 19.0, 0.0, 0.0, 17.0, 15.0, 16.0], \"type\": \"bar\", \"uid\": \"5e2061b3-90cf-11e8-8983-0209357db094\"}],\n",
       "            {\"barmode\": \"group\"},\n",
       "            {\"showLink\": false, \"linkText\": \"Export to plot.ly\"}\n",
       "        ).then(function () {return Plotly.addFrames('9765a626-89d7-4bd0-914a-b04f9d320b7c',{});}).then(function(){Plotly.animate('9765a626-89d7-4bd0-914a-b04f9d320b7c');})\n",
       "        });</script>"
      ],
      "text/vnd.plotly.v1+html": [
       "<div id=\"9765a626-89d7-4bd0-914a-b04f9d320b7c\" style=\"height: 525px; width: 100%;\" class=\"plotly-graph-div\"></div><script type=\"text/javascript\">require([\"plotly\"], function(Plotly) { window.PLOTLYENV=window.PLOTLYENV || {};window.PLOTLYENV.BASE_URL=\"https://plot.ly\";\n",
       "        Plotly.plot(\n",
       "            '9765a626-89d7-4bd0-914a-b04f9d320b7c',\n",
       "            [{\"name\": \"Bertelsmann DS book club\", \"x\": [\"adult\", \"classics\", \"fantasy\", \"fiction\", \"history\", \"non-fiction\", \"personal-development\", \"philosophy\", \"romance\", \"science-fiction\", \"young-adult\"], \"y\": [24.0, 44.0, 38.0, 75.0, 28.0, 31.0, 13.0, 24.0, 14.0, 27.0, 20.0], \"type\": \"bar\", \"uid\": \"5e2061b2-90cf-11e8-8983-0209357db094\"}, {\"name\": \"Other clubs\", \"x\": [\"adult\", \"classics\", \"fantasy\", \"fiction\", \"history\", \"non-fiction\", \"personal-development\", \"philosophy\", \"romance\", \"science-fiction\", \"young-adult\"], \"y\": [33.0, 33.0, 25.0, 86.0, 34.0, 19.0, 0.0, 0.0, 17.0, 15.0, 16.0], \"type\": \"bar\", \"uid\": \"5e2061b3-90cf-11e8-8983-0209357db094\"}],\n",
       "            {\"barmode\": \"group\"},\n",
       "            {\"showLink\": false, \"linkText\": \"Export to plot.ly\"}\n",
       "        ).then(function () {return Plotly.addFrames('9765a626-89d7-4bd0-914a-b04f9d320b7c',{});}).then(function(){Plotly.animate('9765a626-89d7-4bd0-914a-b04f9d320b7c');})\n",
       "        });</script>"
      ]
     },
     "metadata": {},
     "output_type": "display_data"
    },
    {
     "data": {
      "text/html": [
       "<img src=\"final_barplot.png\"/>"
      ],
      "text/plain": [
       "<IPython.core.display.Image object>"
      ]
     },
     "execution_count": 71,
     "metadata": {},
     "output_type": "execute_result"
    }
   ],
   "source": [
    "clubs = ['Bertelsmann DS book club', 'Other clubs']\n",
    "genres_list.sort()\n",
    "trace1 = go.Bar(\n",
    "    x=genres_list,\n",
    "    y=list(bert_list),\n",
    "    name=clubs[0])\n",
    "trace2 = go.Bar(\n",
    "    x=genres_list,\n",
    "    y=list(nonbert_list),\n",
    "    name=clubs[1])\n",
    "data = [trace1, trace2]\n",
    "layout = go.Layout(\n",
    "    barmode='group'\n",
    ")\n",
    "\n",
    "fig = go.Figure(data=data, layout=layout)\n",
    "iplot(fig, filename='grouped-bar',config={'showLink': False})\n",
    "\n",
    "# show image result because Github doesn't render plotly figures \n",
    "Image(url='final_barplot.png')"
   ]
  },
  {
   "cell_type": "code",
   "execution_count": null,
   "metadata": {},
   "outputs": [],
   "source": []
  }
 ],
 "metadata": {
  "kernelspec": {
   "display_name": "Python 3",
   "language": "python",
   "name": "python3"
  },
  "language_info": {
   "codemirror_mode": {
    "name": "ipython",
    "version": 3
   },
   "file_extension": ".py",
   "mimetype": "text/x-python",
   "name": "python",
   "nbconvert_exporter": "python",
   "pygments_lexer": "ipython3",
   "version": "3.6.6"
  }
 },
 "nbformat": 4,
 "nbformat_minor": 2
}
