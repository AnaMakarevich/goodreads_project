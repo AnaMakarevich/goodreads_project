{
 "cells": [
  {
   "cell_type": "markdown",
   "metadata": {},
   "source": [
    "## Data Analysis\n",
    "here we are using the databased to extract the data about different goodreads group and trying to understand different genres \n",
    "### Step 1 : get the data from database"
   ]
  },
  {
   "cell_type": "code",
   "execution_count": 1,
   "metadata": {},
   "outputs": [],
   "source": [
    "import os, sys, inspect\n",
    "currentdir = os.path.dirname(os.path.abspath(inspect.getfile(inspect.currentframe())))\n",
    "parentdir = os.path.dirname(currentdir)\n",
    "sys.path.insert(0, parentdir)\n",
    "from database_utils import get_query_results\n",
    "\n",
    "import pandas as pd\n",
    "import numpy as np\n",
    "import seaborn as sns\n",
    "import matplotlib.pyplot as plt\n",
    "%matplotlib inline\n"
   ]
  },
  {
   "cell_type": "code",
   "execution_count": 2,
   "metadata": {},
   "outputs": [],
   "source": [
    "get_all_data_query = \"\"\"\n",
    "SELECT book.title, book.reviews_cnt, book.ratings_cnt, book.pub_year, book.avg_rating, book.alt_avg_rating, book.author_1_name, book.author_1_avg_rating, genre.name as genre,bc.club_name,bc.book_club_id,genre.genre_id genre_id\n",
    "FROM book \n",
    "join genre_book\n",
    "on book.book_id = genre_book.book_id\n",
    "join genre\n",
    "on genre.genre_id = genre_book.genre_id\n",
    "join book_club_book bcb\n",
    "on bcb.book_id =book.book_id\n",
    "join book_club bc\n",
    "on bc.book_club_id = bcb.book_club_id\n",
    "\"\"\""
   ]
  },
  {
   "cell_type": "code",
   "execution_count": 3,
   "metadata": {},
   "outputs": [],
   "source": [
    "df = get_query_results(get_all_data_query)"
   ]
  },
  {
   "cell_type": "code",
   "execution_count": 4,
   "metadata": {},
   "outputs": [
    {
     "data": {
      "text/html": [
       "<div>\n",
       "<style scoped>\n",
       "    .dataframe tbody tr th:only-of-type {\n",
       "        vertical-align: middle;\n",
       "    }\n",
       "\n",
       "    .dataframe tbody tr th {\n",
       "        vertical-align: top;\n",
       "    }\n",
       "\n",
       "    .dataframe thead th {\n",
       "        text-align: right;\n",
       "    }\n",
       "</style>\n",
       "<table border=\"1\" class=\"dataframe\">\n",
       "  <thead>\n",
       "    <tr style=\"text-align: right;\">\n",
       "      <th></th>\n",
       "      <th>title</th>\n",
       "      <th>reviews_cnt</th>\n",
       "      <th>ratings_cnt</th>\n",
       "      <th>pub_year</th>\n",
       "      <th>avg_rating</th>\n",
       "      <th>alt_avg_rating</th>\n",
       "      <th>author_1_name</th>\n",
       "      <th>author_1_avg_rating</th>\n",
       "      <th>genre</th>\n",
       "      <th>club_name</th>\n",
       "      <th>book_club_id</th>\n",
       "      <th>genre_id</th>\n",
       "    </tr>\n",
       "  </thead>\n",
       "  <tbody>\n",
       "    <tr>\n",
       "      <th>0</th>\n",
       "      <td>The Art of Gathering: How We Meet and Why It M...</td>\n",
       "      <td>1367</td>\n",
       "      <td>23</td>\n",
       "      <td>0</td>\n",
       "      <td>4.3</td>\n",
       "      <td>4.30435</td>\n",
       "      <td>Priya Parker</td>\n",
       "      <td>4.30</td>\n",
       "      <td>non-fiction</td>\n",
       "      <td>Bertelsmann Data Science book readers</td>\n",
       "      <td>1</td>\n",
       "      <td>25</td>\n",
       "    </tr>\n",
       "    <tr>\n",
       "      <th>1</th>\n",
       "      <td>The Art of Gathering: How We Meet and Why It M...</td>\n",
       "      <td>1367</td>\n",
       "      <td>23</td>\n",
       "      <td>0</td>\n",
       "      <td>4.3</td>\n",
       "      <td>4.30435</td>\n",
       "      <td>Priya Parker</td>\n",
       "      <td>4.30</td>\n",
       "      <td>economics</td>\n",
       "      <td>Bertelsmann Data Science book readers</td>\n",
       "      <td>1</td>\n",
       "      <td>32</td>\n",
       "    </tr>\n",
       "    <tr>\n",
       "      <th>2</th>\n",
       "      <td>The Art of Gathering: How We Meet and Why It M...</td>\n",
       "      <td>1367</td>\n",
       "      <td>23</td>\n",
       "      <td>0</td>\n",
       "      <td>4.3</td>\n",
       "      <td>4.30435</td>\n",
       "      <td>Priya Parker</td>\n",
       "      <td>4.30</td>\n",
       "      <td>personal-development</td>\n",
       "      <td>Bertelsmann Data Science book readers</td>\n",
       "      <td>1</td>\n",
       "      <td>36</td>\n",
       "    </tr>\n",
       "    <tr>\n",
       "      <th>3</th>\n",
       "      <td>The Art of Gathering: How We Meet and Why It M...</td>\n",
       "      <td>1367</td>\n",
       "      <td>23</td>\n",
       "      <td>0</td>\n",
       "      <td>4.3</td>\n",
       "      <td>4.30435</td>\n",
       "      <td>Priya Parker</td>\n",
       "      <td>4.30</td>\n",
       "      <td>psychology</td>\n",
       "      <td>Bertelsmann Data Science book readers</td>\n",
       "      <td>1</td>\n",
       "      <td>34</td>\n",
       "    </tr>\n",
       "    <tr>\n",
       "      <th>4</th>\n",
       "      <td>The Master and Margarita</td>\n",
       "      <td>331567</td>\n",
       "      <td>178007</td>\n",
       "      <td>1967</td>\n",
       "      <td>4.0</td>\n",
       "      <td>4.00000</td>\n",
       "      <td>Mikhail Bulgakov</td>\n",
       "      <td>4.25</td>\n",
       "      <td>fiction</td>\n",
       "      <td>Bertelsmann Data Science book readers</td>\n",
       "      <td>1</td>\n",
       "      <td>22</td>\n",
       "    </tr>\n",
       "  </tbody>\n",
       "</table>\n",
       "</div>"
      ],
      "text/plain": [
       "                                               title  reviews_cnt  \\\n",
       "0  The Art of Gathering: How We Meet and Why It M...         1367   \n",
       "1  The Art of Gathering: How We Meet and Why It M...         1367   \n",
       "2  The Art of Gathering: How We Meet and Why It M...         1367   \n",
       "3  The Art of Gathering: How We Meet and Why It M...         1367   \n",
       "4                           The Master and Margarita       331567   \n",
       "\n",
       "   ratings_cnt  pub_year  avg_rating  alt_avg_rating     author_1_name  \\\n",
       "0           23         0         4.3         4.30435      Priya Parker   \n",
       "1           23         0         4.3         4.30435      Priya Parker   \n",
       "2           23         0         4.3         4.30435      Priya Parker   \n",
       "3           23         0         4.3         4.30435      Priya Parker   \n",
       "4       178007      1967         4.0         4.00000  Mikhail Bulgakov   \n",
       "\n",
       "   author_1_avg_rating                 genre  \\\n",
       "0                 4.30           non-fiction   \n",
       "1                 4.30             economics   \n",
       "2                 4.30  personal-development   \n",
       "3                 4.30            psychology   \n",
       "4                 4.25               fiction   \n",
       "\n",
       "                               club_name  book_club_id  genre_id  \n",
       "0  Bertelsmann Data Science book readers             1        25  \n",
       "1  Bertelsmann Data Science book readers             1        32  \n",
       "2  Bertelsmann Data Science book readers             1        36  \n",
       "3  Bertelsmann Data Science book readers             1        34  \n",
       "4  Bertelsmann Data Science book readers             1        22  "
      ]
     },
     "execution_count": 4,
     "metadata": {},
     "output_type": "execute_result"
    }
   ],
   "source": [
    "df.head()"
   ]
  },
  {
   "cell_type": "markdown",
   "metadata": {},
   "source": [
    "### Step 2: Genres preference across different groups  \n",
    "compare the genres preference across the different groups. "
   ]
  },
  {
   "cell_type": "code",
   "execution_count": 6,
   "metadata": {},
   "outputs": [],
   "source": [
    "def generate_comparsion_dataframe(comparsion_genres,df,col_name):\n",
    "    '''\n",
    "    this function takes 2 inputs: first is a list of genres for the comparsion between groups,\n",
    "    second input is the col_name containing the club_names \n",
    "    output dataframe containing the percentage and count of book for each genre\n",
    "    and a dataframe percentage\n",
    "    this function group the data by the col_name(club_name) and genre to \n",
    "    measure the count of this occurance \n",
    "    '''\n",
    "    df_new = pd.DataFrame(df[df['genre'].isin(comparsion_genres)])\n",
    "    df_genre_club_count = df_new.groupby(['genre',col_name])['title'].agg({'percentage':'count'})\n",
    "\n",
    "    df_genre_club_percentage = df_genre_club_count.groupby(level=col_name).apply(lambda x: 100 * x / float(x.sum()))\n",
    "    df_genre_club_count.rename(columns = {'percentage':'count'}, inplace = True)\n",
    "    final_df = pd.merge(df_genre_club_count, df_genre_club_percentage, on=['genre',col_name]).unstack()\n",
    "    return final_df, df_genre_club_percentage"
   ]
  },
  {
   "cell_type": "code",
   "execution_count": 7,
   "metadata": {},
   "outputs": [],
   "source": [
    "'''\n",
    "this function plots the percentage dataframe resulting from the group of genre and club_name\n",
    "'''\n",
    "def plot_percentage_genres(df_genre_club_percentage):    \n",
    "    df_genre_club_percentage.unstack(level=0).plot(kind='bar',  y = 'percentage',figsize = (8,6))\n",
    "    plt.legend(loc='best', fontsize = 10)\n",
    "    plt.xlabel('Group', size = 12)\n",
    "    plt.ylabel('Percentage', size = 12)\n",
    "    plt.tick_params(axis='both',which='both',labelsize=10)\n"
   ]
  },
  {
   "cell_type": "code",
   "execution_count": 8,
   "metadata": {},
   "outputs": [],
   "source": [
    "#plot ths histogram for genre list \n",
    "def create_hist_to_compare_different_groups(genres_list,df,col_name):\n",
    "    df_new = pd.DataFrame(df[df['genre'].isin(genres_list)])\n",
    "    plt.figure(figsize=(8, 6))\n",
    "    sns.countplot(x='genre',data=df_new, hue = col_name)\n",
    "    plt.legend(loc='best', fontsize = 10)\n",
    "    plt.xlabel('Genre', size = 12)\n",
    "    plt.ylabel('Label', size = 12)\n",
    "    plt.tick_params(axis='both',which='both',labelsize=10)\n"
   ]
  },
  {
   "cell_type": "markdown",
   "metadata": {},
   "source": [
    "### 1) The difference between groups interest in fiction and non-fiction\n",
    "* compare the difference in interest when we split the groups in two by combining all the non-Bertelsmann into one group(other) and Bertelsmann group \n",
    "* generate a df summarizing the count and percent of each genre for each group\n",
    "* generate percentage and count plot for the new group\n"
   ]
  },
  {
   "cell_type": "code",
   "execution_count": 9,
   "metadata": {},
   "outputs": [
    {
     "data": {
      "text/html": [
       "<div>\n",
       "<style scoped>\n",
       "    .dataframe tbody tr th:only-of-type {\n",
       "        vertical-align: middle;\n",
       "    }\n",
       "\n",
       "    .dataframe tbody tr th {\n",
       "        vertical-align: top;\n",
       "    }\n",
       "\n",
       "    .dataframe thead th {\n",
       "        text-align: right;\n",
       "    }\n",
       "</style>\n",
       "<table border=\"1\" class=\"dataframe\">\n",
       "  <thead>\n",
       "    <tr style=\"text-align: right;\">\n",
       "      <th></th>\n",
       "      <th>genre</th>\n",
       "      <th>title</th>\n",
       "      <th>club_classified</th>\n",
       "    </tr>\n",
       "  </thead>\n",
       "  <tbody>\n",
       "    <tr>\n",
       "      <th>0</th>\n",
       "      <td>non-fiction</td>\n",
       "      <td>The Art of Gathering: How We Meet and Why It M...</td>\n",
       "      <td>Bertelsmann</td>\n",
       "    </tr>\n",
       "    <tr>\n",
       "      <th>1</th>\n",
       "      <td>economics</td>\n",
       "      <td>The Art of Gathering: How We Meet and Why It M...</td>\n",
       "      <td>Bertelsmann</td>\n",
       "    </tr>\n",
       "    <tr>\n",
       "      <th>2</th>\n",
       "      <td>personal-development</td>\n",
       "      <td>The Art of Gathering: How We Meet and Why It M...</td>\n",
       "      <td>Bertelsmann</td>\n",
       "    </tr>\n",
       "    <tr>\n",
       "      <th>3</th>\n",
       "      <td>psychology</td>\n",
       "      <td>The Art of Gathering: How We Meet and Why It M...</td>\n",
       "      <td>Bertelsmann</td>\n",
       "    </tr>\n",
       "    <tr>\n",
       "      <th>4</th>\n",
       "      <td>fiction</td>\n",
       "      <td>The Master and Margarita</td>\n",
       "      <td>Bertelsmann</td>\n",
       "    </tr>\n",
       "  </tbody>\n",
       "</table>\n",
       "</div>"
      ],
      "text/plain": [
       "                  genre                                              title  \\\n",
       "0           non-fiction  The Art of Gathering: How We Meet and Why It M...   \n",
       "1             economics  The Art of Gathering: How We Meet and Why It M...   \n",
       "2  personal-development  The Art of Gathering: How We Meet and Why It M...   \n",
       "3            psychology  The Art of Gathering: How We Meet and Why It M...   \n",
       "4               fiction                           The Master and Margarita   \n",
       "\n",
       "  club_classified  \n",
       "0     Bertelsmann  \n",
       "1     Bertelsmann  \n",
       "2     Bertelsmann  \n",
       "3     Bertelsmann  \n",
       "4     Bertelsmann  "
      ]
     },
     "execution_count": 9,
     "metadata": {},
     "output_type": "execute_result"
    }
   ],
   "source": [
    "# create a new data frame with new column that divided that adds a label according to group name \n",
    "# the new dataframe will include only the title, genre and club_name \n",
    "df_new_grouped = pd.DataFrame.copy(df[['club_name','genre','title']])\n",
    "df_new_grouped['club_classified'] = np.where(df_new_grouped['club_name']=='Bertelsmann Data Science book readers', 'Bertelsmann', 'Other groups')\n",
    "del df_new_grouped['club_name']\n",
    "\n",
    "df_new_grouped.head()"
   ]
  },
  {
   "cell_type": "code",
   "execution_count": 10,
   "metadata": {},
   "outputs": [
    {
     "name": "stderr",
     "output_type": "stream",
     "text": [
      "/usr/local/lib/python3.6/dist-packages/ipykernel_launcher.py:9: FutureWarning: using a dict on a Series for aggregation\n",
      "is deprecated and will be removed in a future version\n",
      "  if __name__ == '__main__':\n"
     ]
    },
    {
     "data": {
      "text/html": [
       "<div>\n",
       "<style scoped>\n",
       "    .dataframe tbody tr th:only-of-type {\n",
       "        vertical-align: middle;\n",
       "    }\n",
       "\n",
       "    .dataframe tbody tr th {\n",
       "        vertical-align: top;\n",
       "    }\n",
       "\n",
       "    .dataframe thead tr th {\n",
       "        text-align: left;\n",
       "    }\n",
       "\n",
       "    .dataframe thead tr:last-of-type th {\n",
       "        text-align: right;\n",
       "    }\n",
       "</style>\n",
       "<table border=\"1\" class=\"dataframe\">\n",
       "  <thead>\n",
       "    <tr>\n",
       "      <th></th>\n",
       "      <th colspan=\"2\" halign=\"left\">count</th>\n",
       "      <th colspan=\"2\" halign=\"left\">percentage</th>\n",
       "    </tr>\n",
       "    <tr>\n",
       "      <th>club_classified</th>\n",
       "      <th>Bertelsmann</th>\n",
       "      <th>Other groups</th>\n",
       "      <th>Bertelsmann</th>\n",
       "      <th>Other groups</th>\n",
       "    </tr>\n",
       "    <tr>\n",
       "      <th>genre</th>\n",
       "      <th></th>\n",
       "      <th></th>\n",
       "      <th></th>\n",
       "      <th></th>\n",
       "    </tr>\n",
       "  </thead>\n",
       "  <tbody>\n",
       "    <tr>\n",
       "      <th>fiction</th>\n",
       "      <td>92</td>\n",
       "      <td>417</td>\n",
       "      <td>70.769231</td>\n",
       "      <td>81.925344</td>\n",
       "    </tr>\n",
       "    <tr>\n",
       "      <th>non-fiction</th>\n",
       "      <td>38</td>\n",
       "      <td>92</td>\n",
       "      <td>29.230769</td>\n",
       "      <td>18.074656</td>\n",
       "    </tr>\n",
       "  </tbody>\n",
       "</table>\n",
       "</div>"
      ],
      "text/plain": [
       "                      count               percentage             \n",
       "club_classified Bertelsmann Other groups Bertelsmann Other groups\n",
       "genre                                                            \n",
       "fiction                  92          417   70.769231    81.925344\n",
       "non-fiction              38           92   29.230769    18.074656"
      ]
     },
     "execution_count": 10,
     "metadata": {},
     "output_type": "execute_result"
    }
   ],
   "source": [
    "# generate the DF for fiction and non-fiction \n",
    "comparsion_genres = ['fiction','non-fiction']\n",
    "column_club = 'club_classified'\n",
    "df_ficition_grouped, df_ficition_grouped_percentage = generate_comparsion_dataframe(comparsion_genres, df_new_grouped,'club_classified')\n",
    "df_ficition_grouped.head()"
   ]
  },
  {
   "cell_type": "code",
   "execution_count": 11,
   "metadata": {},
   "outputs": [
    {
     "data": {
      "image/png": "[encoded data removed]",
      "text/plain": [
       "<Figure size 576x432 with 1 Axes>"
      ]
     },
     "metadata": {},
     "output_type": "display_data"
    }
   ],
   "source": [
    "# generate count plot for different groups \n",
    "create_hist_to_compare_different_groups(comparsion_genres, df_new_grouped, column_club)"
   ]
  },
  {
   "cell_type": "markdown",
   "metadata": {},
   "source": [
    "#### Conculsion \n",
    "* the percentage of non-fiction books for scholar is higher compared to non-scholars\n",
    "* to confirm the above we will plot all the groups without spliting them into 2 groups \n"
   ]
  },
  {
   "cell_type": "code",
   "execution_count": 13,
   "metadata": {},
   "outputs": [
    {
     "name": "stderr",
     "output_type": "stream",
     "text": [
      "/usr/local/lib/python3.6/dist-packages/ipykernel_launcher.py:9: FutureWarning: using a dict on a Series for aggregation\n",
      "is deprecated and will be removed in a future version\n",
      "  if __name__ == '__main__':\n"
     ]
    },
    {
     "data": {
      "text/html": [
       "<div>\n",
       "<style scoped>\n",
       "    .dataframe tbody tr th:only-of-type {\n",
       "        vertical-align: middle;\n",
       "    }\n",
       "\n",
       "    .dataframe tbody tr th {\n",
       "        vertical-align: top;\n",
       "    }\n",
       "\n",
       "    .dataframe thead tr th {\n",
       "        text-align: left;\n",
       "    }\n",
       "\n",
       "    .dataframe thead tr:last-of-type th {\n",
       "        text-align: right;\n",
       "    }\n",
       "</style>\n",
       "<table border=\"1\" class=\"dataframe\">\n",
       "  <thead>\n",
       "    <tr>\n",
       "      <th></th>\n",
       "      <th colspan=\"2\" halign=\"left\">count</th>\n",
       "      <th colspan=\"2\" halign=\"left\">percentage</th>\n",
       "    </tr>\n",
       "    <tr>\n",
       "      <th>club_classified</th>\n",
       "      <th>Bertelsmann</th>\n",
       "      <th>Other groups</th>\n",
       "      <th>Bertelsmann</th>\n",
       "      <th>Other groups</th>\n",
       "    </tr>\n",
       "    <tr>\n",
       "      <th>genre</th>\n",
       "      <th></th>\n",
       "      <th></th>\n",
       "      <th></th>\n",
       "      <th></th>\n",
       "    </tr>\n",
       "  </thead>\n",
       "  <tbody>\n",
       "    <tr>\n",
       "      <th>fiction</th>\n",
       "      <td>92</td>\n",
       "      <td>417</td>\n",
       "      <td>70.769231</td>\n",
       "      <td>81.925344</td>\n",
       "    </tr>\n",
       "    <tr>\n",
       "      <th>non-fiction</th>\n",
       "      <td>38</td>\n",
       "      <td>92</td>\n",
       "      <td>29.230769</td>\n",
       "      <td>18.074656</td>\n",
       "    </tr>\n",
       "  </tbody>\n",
       "</table>\n",
       "</div>"
      ],
      "text/plain": [
       "                      count               percentage             \n",
       "club_classified Bertelsmann Other groups Bertelsmann Other groups\n",
       "genre                                                            \n",
       "fiction                  92          417   70.769231    81.925344\n",
       "non-fiction              38           92   29.230769    18.074656"
      ]
     },
     "execution_count": 13,
     "metadata": {},
     "output_type": "execute_result"
    }
   ],
   "source": [
    "df_ficition_notgrouped, df_ficition_notgrouped_percentage = generate_comparsion_dataframe(comparsion_genres, df[['club_name','genre','title']],'club_name')\n",
    "df_ficition_grouped.head()"
   ]
  },
  {
   "cell_type": "code",
   "execution_count": 14,
   "metadata": {},
   "outputs": [
    {
     "data": {
      "image/png": "[encoded data removed]",
      "text/plain": [
       "<Figure size 576x432 with 1 Axes>"
      ]
     },
     "metadata": {},
     "output_type": "display_data"
    }
   ],
   "source": [
    "create_hist_to_compare_different_groups(comparsion_genres, df[['club_name','genre','title']], 'club_name')"
   ]
  },
  {
   "cell_type": "markdown",
   "metadata": {},
   "source": [
    "###  2) distribution of different fiction books genres liked by users \n",
    "* compare the difference in interest when we split the groups in two by combining all the non-Bertelsmann into one group(other) and Bertelsmann group \n",
    "* generate a df summarizing the count and percent of each genre for each group\n",
    "* generate percentage and count plot for the new group\n",
    "* compare the groups individiulaly "
   ]
  },
  {
   "cell_type": "code",
   "execution_count": 16,
   "metadata": {},
   "outputs": [
    {
     "name": "stderr",
     "output_type": "stream",
     "text": [
      "/usr/local/lib/python3.6/dist-packages/ipykernel_launcher.py:9: FutureWarning: using a dict on a Series for aggregation\n",
      "is deprecated and will be removed in a future version\n",
      "  if __name__ == '__main__':\n"
     ]
    },
    {
     "data": {
      "text/html": [
       "<div>\n",
       "<style scoped>\n",
       "    .dataframe tbody tr th:only-of-type {\n",
       "        vertical-align: middle;\n",
       "    }\n",
       "\n",
       "    .dataframe tbody tr th {\n",
       "        vertical-align: top;\n",
       "    }\n",
       "\n",
       "    .dataframe thead tr th {\n",
       "        text-align: left;\n",
       "    }\n",
       "\n",
       "    .dataframe thead tr:last-of-type th {\n",
       "        text-align: right;\n",
       "    }\n",
       "</style>\n",
       "<table border=\"1\" class=\"dataframe\">\n",
       "  <thead>\n",
       "    <tr>\n",
       "      <th></th>\n",
       "      <th colspan=\"2\" halign=\"left\">count</th>\n",
       "      <th colspan=\"2\" halign=\"left\">percentage</th>\n",
       "    </tr>\n",
       "    <tr>\n",
       "      <th>club_classified</th>\n",
       "      <th>Bertelsmann</th>\n",
       "      <th>Other groups</th>\n",
       "      <th>Bertelsmann</th>\n",
       "      <th>Other groups</th>\n",
       "    </tr>\n",
       "    <tr>\n",
       "      <th>genre</th>\n",
       "      <th></th>\n",
       "      <th></th>\n",
       "      <th></th>\n",
       "      <th></th>\n",
       "    </tr>\n",
       "  </thead>\n",
       "  <tbody>\n",
       "    <tr>\n",
       "      <th>classics</th>\n",
       "      <td>54</td>\n",
       "      <td>158</td>\n",
       "      <td>29.347826</td>\n",
       "      <td>26.421405</td>\n",
       "    </tr>\n",
       "    <tr>\n",
       "      <th>fantasy</th>\n",
       "      <td>46</td>\n",
       "      <td>122</td>\n",
       "      <td>25.000000</td>\n",
       "      <td>20.401338</td>\n",
       "    </tr>\n",
       "    <tr>\n",
       "      <th>history</th>\n",
       "      <td>34</td>\n",
       "      <td>164</td>\n",
       "      <td>18.478261</td>\n",
       "      <td>27.424749</td>\n",
       "    </tr>\n",
       "    <tr>\n",
       "      <th>romance</th>\n",
       "      <td>17</td>\n",
       "      <td>82</td>\n",
       "      <td>9.239130</td>\n",
       "      <td>13.712375</td>\n",
       "    </tr>\n",
       "    <tr>\n",
       "      <th>science-fiction</th>\n",
       "      <td>33</td>\n",
       "      <td>72</td>\n",
       "      <td>17.934783</td>\n",
       "      <td>12.040134</td>\n",
       "    </tr>\n",
       "  </tbody>\n",
       "</table>\n",
       "</div>"
      ],
      "text/plain": [
       "                      count               percentage             \n",
       "club_classified Bertelsmann Other groups Bertelsmann Other groups\n",
       "genre                                                            \n",
       "classics                 54          158   29.347826    26.421405\n",
       "fantasy                  46          122   25.000000    20.401338\n",
       "history                  34          164   18.478261    27.424749\n",
       "romance                  17           82    9.239130    13.712375\n",
       "science-fiction          33           72   17.934783    12.040134"
      ]
     },
     "execution_count": 16,
     "metadata": {},
     "output_type": "execute_result"
    }
   ],
   "source": [
    "comparsion_genres = ['science-fiction','history','classics','fantasy','romance']\n",
    "column_club = 'club_classified'\n",
    "df_ficition_grouped, df_ficition_grouped_percentage = generate_comparsion_dataframe(comparsion_genres, df_new_grouped,'club_classified')\n",
    "df_ficition_grouped.head()"
   ]
  },
  {
   "cell_type": "code",
   "execution_count": 17,
   "metadata": {},
   "outputs": [
    {
     "data": {
      "image/png": "[encoded data removed]",
      "text/plain": [
       "<Figure size 576x432 with 1 Axes>"
      ]
     },
     "metadata": {},
     "output_type": "display_data"
    }
   ],
   "source": [
    "create_hist_to_compare_different_groups(comparsion_genres, df_new_grouped, column_club)"
   ]
  },
  {
   "cell_type": "markdown",
   "metadata": {},
   "source": [
    "#### Conculsion \n",
    "* the percentage of science-fiction books for scholar is higher compared to non-scholars and a lower percentage of romance books\n",
    "* to confirm the above we will plot all the groups without spliting them into 2 groups \n"
   ]
  },
  {
   "cell_type": "code",
   "execution_count": 19,
   "metadata": {},
   "outputs": [
    {
     "name": "stderr",
     "output_type": "stream",
     "text": [
      "/usr/local/lib/python3.6/dist-packages/ipykernel_launcher.py:9: FutureWarning: using a dict on a Series for aggregation\n",
      "is deprecated and will be removed in a future version\n",
      "  if __name__ == '__main__':\n"
     ]
    },
    {
     "data": {
      "text/html": [
       "<div>\n",
       "<style scoped>\n",
       "    .dataframe tbody tr th:only-of-type {\n",
       "        vertical-align: middle;\n",
       "    }\n",
       "\n",
       "    .dataframe tbody tr th {\n",
       "        vertical-align: top;\n",
       "    }\n",
       "\n",
       "    .dataframe thead tr th {\n",
       "        text-align: left;\n",
       "    }\n",
       "\n",
       "    .dataframe thead tr:last-of-type th {\n",
       "        text-align: right;\n",
       "    }\n",
       "</style>\n",
       "<table border=\"1\" class=\"dataframe\">\n",
       "  <thead>\n",
       "    <tr>\n",
       "      <th></th>\n",
       "      <th colspan=\"2\" halign=\"left\">count</th>\n",
       "      <th colspan=\"2\" halign=\"left\">percentage</th>\n",
       "    </tr>\n",
       "    <tr>\n",
       "      <th>club_classified</th>\n",
       "      <th>Bertelsmann</th>\n",
       "      <th>Other groups</th>\n",
       "      <th>Bertelsmann</th>\n",
       "      <th>Other groups</th>\n",
       "    </tr>\n",
       "    <tr>\n",
       "      <th>genre</th>\n",
       "      <th></th>\n",
       "      <th></th>\n",
       "      <th></th>\n",
       "      <th></th>\n",
       "    </tr>\n",
       "  </thead>\n",
       "  <tbody>\n",
       "    <tr>\n",
       "      <th>classics</th>\n",
       "      <td>54</td>\n",
       "      <td>158</td>\n",
       "      <td>29.347826</td>\n",
       "      <td>26.421405</td>\n",
       "    </tr>\n",
       "    <tr>\n",
       "      <th>fantasy</th>\n",
       "      <td>46</td>\n",
       "      <td>122</td>\n",
       "      <td>25.000000</td>\n",
       "      <td>20.401338</td>\n",
       "    </tr>\n",
       "    <tr>\n",
       "      <th>history</th>\n",
       "      <td>34</td>\n",
       "      <td>164</td>\n",
       "      <td>18.478261</td>\n",
       "      <td>27.424749</td>\n",
       "    </tr>\n",
       "    <tr>\n",
       "      <th>romance</th>\n",
       "      <td>17</td>\n",
       "      <td>82</td>\n",
       "      <td>9.239130</td>\n",
       "      <td>13.712375</td>\n",
       "    </tr>\n",
       "    <tr>\n",
       "      <th>science-fiction</th>\n",
       "      <td>33</td>\n",
       "      <td>72</td>\n",
       "      <td>17.934783</td>\n",
       "      <td>12.040134</td>\n",
       "    </tr>\n",
       "  </tbody>\n",
       "</table>\n",
       "</div>"
      ],
      "text/plain": [
       "                      count               percentage             \n",
       "club_classified Bertelsmann Other groups Bertelsmann Other groups\n",
       "genre                                                            \n",
       "classics                 54          158   29.347826    26.421405\n",
       "fantasy                  46          122   25.000000    20.401338\n",
       "history                  34          164   18.478261    27.424749\n",
       "romance                  17           82    9.239130    13.712375\n",
       "science-fiction          33           72   17.934783    12.040134"
      ]
     },
     "execution_count": 19,
     "metadata": {},
     "output_type": "execute_result"
    }
   ],
   "source": [
    "df_ficition_notgrouped, df_ficition_notgrouped_percentage = generate_comparsion_dataframe(comparsion_genres, df[['club_name','genre','title']],'club_name')\n",
    "df_ficition_grouped.head()"
   ]
  },
  {
   "cell_type": "code",
   "execution_count": 20,
   "metadata": {},
   "outputs": [
    {
     "data": {
      "image/png": "[encoded data removed]",
      "text/plain": [
       "<Figure size 576x432 with 1 Axes>"
      ]
     },
     "metadata": {},
     "output_type": "display_data"
    }
   ],
   "source": [
    "create_hist_to_compare_different_groups(comparsion_genres, df[['club_name','genre','title']], 'club_name')"
   ]
  },
  {
   "cell_type": "markdown",
   "metadata": {},
   "source": [
    "###  3) Adult or young-adult in different groups \n",
    "* compare the difference in interest when we split the groups in two by combining all the non-Bertelsmann into one group(other) and Bertelsmann group \n",
    "* generate a df summarizing the count and percent of each genre for each group\n",
    "* generate percentage and count plot for the new group\n",
    "* compare the groups individiulaly "
   ]
  },
  {
   "cell_type": "code",
   "execution_count": 21,
   "metadata": {},
   "outputs": [
    {
     "name": "stderr",
     "output_type": "stream",
     "text": [
      "/usr/local/lib/python3.6/dist-packages/ipykernel_launcher.py:9: FutureWarning: using a dict on a Series for aggregation\n",
      "is deprecated and will be removed in a future version\n",
      "  if __name__ == '__main__':\n"
     ]
    },
    {
     "data": {
      "text/html": [
       "<div>\n",
       "<style scoped>\n",
       "    .dataframe tbody tr th:only-of-type {\n",
       "        vertical-align: middle;\n",
       "    }\n",
       "\n",
       "    .dataframe tbody tr th {\n",
       "        vertical-align: top;\n",
       "    }\n",
       "\n",
       "    .dataframe thead tr th {\n",
       "        text-align: left;\n",
       "    }\n",
       "\n",
       "    .dataframe thead tr:last-of-type th {\n",
       "        text-align: right;\n",
       "    }\n",
       "</style>\n",
       "<table border=\"1\" class=\"dataframe\">\n",
       "  <thead>\n",
       "    <tr>\n",
       "      <th></th>\n",
       "      <th colspan=\"2\" halign=\"left\">count</th>\n",
       "      <th colspan=\"2\" halign=\"left\">percentage</th>\n",
       "    </tr>\n",
       "    <tr>\n",
       "      <th>club_classified</th>\n",
       "      <th>Bertelsmann</th>\n",
       "      <th>Other groups</th>\n",
       "      <th>Bertelsmann</th>\n",
       "      <th>Other groups</th>\n",
       "    </tr>\n",
       "    <tr>\n",
       "      <th>genre</th>\n",
       "      <th></th>\n",
       "      <th></th>\n",
       "      <th></th>\n",
       "      <th></th>\n",
       "    </tr>\n",
       "  </thead>\n",
       "  <tbody>\n",
       "    <tr>\n",
       "      <th>adult</th>\n",
       "      <td>29</td>\n",
       "      <td>159</td>\n",
       "      <td>54.716981</td>\n",
       "      <td>66.806723</td>\n",
       "    </tr>\n",
       "    <tr>\n",
       "      <th>young-adult</th>\n",
       "      <td>24</td>\n",
       "      <td>79</td>\n",
       "      <td>45.283019</td>\n",
       "      <td>33.193277</td>\n",
       "    </tr>\n",
       "  </tbody>\n",
       "</table>\n",
       "</div>"
      ],
      "text/plain": [
       "                      count               percentage             \n",
       "club_classified Bertelsmann Other groups Bertelsmann Other groups\n",
       "genre                                                            \n",
       "adult                    29          159   54.716981    66.806723\n",
       "young-adult              24           79   45.283019    33.193277"
      ]
     },
     "execution_count": 21,
     "metadata": {},
     "output_type": "execute_result"
    }
   ],
   "source": [
    "comparsion_genres = ['adult','young-adult']\n",
    "column_club = 'club_classified'\n",
    "df_ficition_grouped, df_ficition_grouped_percentage = generate_comparsion_dataframe(comparsion_genres, df_new_grouped,'club_classified')\n",
    "df_ficition_grouped.head()"
   ]
  },
  {
   "cell_type": "code",
   "execution_count": 22,
   "metadata": {},
   "outputs": [
    {
     "data": {
      "image/png": "[encoded data removed]",
      "text/plain": [
       "<Figure size 576x432 with 1 Axes>"
      ]
     },
     "metadata": {},
     "output_type": "display_data"
    }
   ],
   "source": [
    "create_hist_to_compare_different_groups(comparsion_genres, df_new_grouped, column_club)"
   ]
  },
  {
   "cell_type": "markdown",
   "metadata": {},
   "source": [
    "#### Conculsion \n",
    "* the percentage of young-adults books for scholar is higher compared to non-scholars \n",
    "* to confirm the above we will plot all the groups without spliting them into 2 groups \n"
   ]
  },
  {
   "cell_type": "code",
   "execution_count": 23,
   "metadata": {},
   "outputs": [
    {
     "name": "stderr",
     "output_type": "stream",
     "text": [
      "/usr/local/lib/python3.6/dist-packages/ipykernel_launcher.py:9: FutureWarning: using a dict on a Series for aggregation\n",
      "is deprecated and will be removed in a future version\n",
      "  if __name__ == '__main__':\n"
     ]
    },
    {
     "data": {
      "text/html": [
       "<div>\n",
       "<style scoped>\n",
       "    .dataframe tbody tr th:only-of-type {\n",
       "        vertical-align: middle;\n",
       "    }\n",
       "\n",
       "    .dataframe tbody tr th {\n",
       "        vertical-align: top;\n",
       "    }\n",
       "\n",
       "    .dataframe thead tr th {\n",
       "        text-align: left;\n",
       "    }\n",
       "\n",
       "    .dataframe thead tr:last-of-type th {\n",
       "        text-align: right;\n",
       "    }\n",
       "</style>\n",
       "<table border=\"1\" class=\"dataframe\">\n",
       "  <thead>\n",
       "    <tr>\n",
       "      <th></th>\n",
       "      <th colspan=\"2\" halign=\"left\">count</th>\n",
       "      <th colspan=\"2\" halign=\"left\">percentage</th>\n",
       "    </tr>\n",
       "    <tr>\n",
       "      <th>club_classified</th>\n",
       "      <th>Bertelsmann</th>\n",
       "      <th>Other groups</th>\n",
       "      <th>Bertelsmann</th>\n",
       "      <th>Other groups</th>\n",
       "    </tr>\n",
       "    <tr>\n",
       "      <th>genre</th>\n",
       "      <th></th>\n",
       "      <th></th>\n",
       "      <th></th>\n",
       "      <th></th>\n",
       "    </tr>\n",
       "  </thead>\n",
       "  <tbody>\n",
       "    <tr>\n",
       "      <th>adult</th>\n",
       "      <td>29</td>\n",
       "      <td>159</td>\n",
       "      <td>54.716981</td>\n",
       "      <td>66.806723</td>\n",
       "    </tr>\n",
       "    <tr>\n",
       "      <th>young-adult</th>\n",
       "      <td>24</td>\n",
       "      <td>79</td>\n",
       "      <td>45.283019</td>\n",
       "      <td>33.193277</td>\n",
       "    </tr>\n",
       "  </tbody>\n",
       "</table>\n",
       "</div>"
      ],
      "text/plain": [
       "                      count               percentage             \n",
       "club_classified Bertelsmann Other groups Bertelsmann Other groups\n",
       "genre                                                            \n",
       "adult                    29          159   54.716981    66.806723\n",
       "young-adult              24           79   45.283019    33.193277"
      ]
     },
     "execution_count": 23,
     "metadata": {},
     "output_type": "execute_result"
    }
   ],
   "source": [
    "df_ficition_notgrouped, df_ficition_notgrouped_percentage = generate_comparsion_dataframe(comparsion_genres, df[['club_name','genre','title']],'club_name')\n",
    "df_ficition_grouped.head()"
   ]
  },
  {
   "cell_type": "code",
   "execution_count": 24,
   "metadata": {},
   "outputs": [
    {
     "data": {
      "image/png": "[encoded data removed]",
      "text/plain": [
       "<Figure size 576x432 with 1 Axes>"
      ]
     },
     "metadata": {},
     "output_type": "display_data"
    }
   ],
   "source": [
    "create_hist_to_compare_different_groups(comparsion_genres, df[['club_name','genre','title']], 'club_name')"
   ]
  },
  {
   "cell_type": "markdown",
   "metadata": {},
   "source": [
    "### 4) how much we read more personal-development or philosphy in different groups \n"
   ]
  },
  {
   "cell_type": "code",
   "execution_count": 26,
   "metadata": {},
   "outputs": [
    {
     "name": "stderr",
     "output_type": "stream",
     "text": [
      "/usr/local/lib/python3.6/dist-packages/ipykernel_launcher.py:9: FutureWarning: using a dict on a Series for aggregation\n",
      "is deprecated and will be removed in a future version\n",
      "  if __name__ == '__main__':\n"
     ]
    },
    {
     "data": {
      "text/html": [
       "<div>\n",
       "<style scoped>\n",
       "    .dataframe tbody tr th:only-of-type {\n",
       "        vertical-align: middle;\n",
       "    }\n",
       "\n",
       "    .dataframe tbody tr th {\n",
       "        vertical-align: top;\n",
       "    }\n",
       "\n",
       "    .dataframe thead tr th {\n",
       "        text-align: left;\n",
       "    }\n",
       "\n",
       "    .dataframe thead tr:last-of-type th {\n",
       "        text-align: right;\n",
       "    }\n",
       "</style>\n",
       "<table border=\"1\" class=\"dataframe\">\n",
       "  <thead>\n",
       "    <tr>\n",
       "      <th></th>\n",
       "      <th colspan=\"2\" halign=\"left\">count</th>\n",
       "      <th colspan=\"2\" halign=\"left\">percentage</th>\n",
       "    </tr>\n",
       "    <tr>\n",
       "      <th>club_classified</th>\n",
       "      <th>Bertelsmann</th>\n",
       "      <th>Other groups</th>\n",
       "      <th>Bertelsmann</th>\n",
       "      <th>Other groups</th>\n",
       "    </tr>\n",
       "    <tr>\n",
       "      <th>genre</th>\n",
       "      <th></th>\n",
       "      <th></th>\n",
       "      <th></th>\n",
       "      <th></th>\n",
       "    </tr>\n",
       "  </thead>\n",
       "  <tbody>\n",
       "    <tr>\n",
       "      <th>personal-development</th>\n",
       "      <td>16.0</td>\n",
       "      <td>NaN</td>\n",
       "      <td>35.555556</td>\n",
       "      <td>NaN</td>\n",
       "    </tr>\n",
       "    <tr>\n",
       "      <th>philosophy</th>\n",
       "      <td>29.0</td>\n",
       "      <td>1.0</td>\n",
       "      <td>64.444444</td>\n",
       "      <td>100.0</td>\n",
       "    </tr>\n",
       "  </tbody>\n",
       "</table>\n",
       "</div>"
      ],
      "text/plain": [
       "                           count               percentage             \n",
       "club_classified      Bertelsmann Other groups Bertelsmann Other groups\n",
       "genre                                                                 \n",
       "personal-development        16.0          NaN   35.555556          NaN\n",
       "philosophy                  29.0          1.0   64.444444        100.0"
      ]
     },
     "execution_count": 26,
     "metadata": {},
     "output_type": "execute_result"
    }
   ],
   "source": [
    "comparsion_genres = ['personal-development','philosophy']\n",
    "column_club = 'club_classified'\n",
    "df_ficition_grouped, df_ficition_grouped_percentage = generate_comparsion_dataframe(comparsion_genres, df_new_grouped,'club_classified')\n",
    "df_ficition_grouped.head()"
   ]
  },
  {
   "cell_type": "code",
   "execution_count": 27,
   "metadata": {},
   "outputs": [
    {
     "data": {
      "image/png": "[encoded data removed]",
      "text/plain": [
       "<Figure size 576x432 with 1 Axes>"
      ]
     },
     "metadata": {},
     "output_type": "display_data"
    }
   ],
   "source": [
    "create_hist_to_compare_different_groups(comparsion_genres, df_new_grouped, column_club)"
   ]
  },
  {
   "cell_type": "markdown",
   "metadata": {},
   "source": [
    "#### Conculsion \n",
    "* the percentage of personal-development books for scholar is higher compared to non-scholars \n",
    "* to confirm the above we will plot all the groups without spliting them into 2 groups \n"
   ]
  },
  {
   "cell_type": "markdown",
   "metadata": {},
   "source": [
    "###  4) rating distribution of books  \n",
    "* compare the rating of books across groups \n",
    "* generate percentage and count plot for the new group\n",
    "* we can notice for both groups the mean of rating is 4 and range is from 3 -4.6 "
   ]
  },
  {
   "cell_type": "code",
   "execution_count": 31,
   "metadata": {},
   "outputs": [],
   "source": [
    "df_new_grouped_rating = pd.DataFrame.copy(df[['club_name','avg_rating','title']])\n",
    "df_new_grouped_rating['club_classified'] = np.where(df_new_grouped_rating['club_name']=='Bertelsmann Data Science book readers', 'Bertelsmann', 'Other groups')\n",
    "del df_new_grouped_rating['club_name']\n"
   ]
  },
  {
   "cell_type": "code",
   "execution_count": 32,
   "metadata": {},
   "outputs": [
    {
     "data": {
      "text/plain": [
       "count    706.000000\n",
       "mean       4.035297\n",
       "std        0.327427\n",
       "min        3.000000\n",
       "25%        3.900000\n",
       "50%        4.045000\n",
       "75%        4.230000\n",
       "max        4.620000\n",
       "Name: avg_rating, dtype: float64"
      ]
     },
     "execution_count": 32,
     "metadata": {},
     "output_type": "execute_result"
    }
   ],
   "source": [
    "df_new_grouped_rating[df_new_grouped_rating['club_classified'] == 'Bertelsmann']['avg_rating'].describe()\n"
   ]
  },
  {
   "cell_type": "code",
   "execution_count": 33,
   "metadata": {},
   "outputs": [
    {
     "data": {
      "text/plain": [
       "count    2471.000000\n",
       "mean        3.920749\n",
       "std         0.293943\n",
       "min         2.940000\n",
       "25%         3.800000\n",
       "50%         3.960000\n",
       "75%         4.080000\n",
       "max         4.610000\n",
       "Name: avg_rating, dtype: float64"
      ]
     },
     "execution_count": 33,
     "metadata": {},
     "output_type": "execute_result"
    }
   ],
   "source": [
    "df_new_grouped_rating[df_new_grouped_rating['club_classified'] == 'Other groups']['avg_rating'].describe()\n"
   ]
  },
  {
   "cell_type": "code",
   "execution_count": 34,
   "metadata": {},
   "outputs": [
    {
     "data": {
      "text/plain": [
       "<seaborn.axisgrid.FacetGrid at 0x7f3e51a2f828>"
      ]
     },
     "execution_count": 34,
     "metadata": {},
     "output_type": "execute_result"
    },
    {
     "data": {
      "image/png": "[encoded data removed]",
      "text/plain": [
       "<Figure size 432x216 with 2 Axes>"
      ]
     },
     "metadata": {},
     "output_type": "display_data"
    }
   ],
   "source": [
    "g=sns.FacetGrid(data=df_new_grouped_rating,col='club_classified')\n",
    "g.map(plt.hist,'avg_rating')\n"
   ]
  },
  {
   "cell_type": "markdown",
   "metadata": {},
   "source": [
    "###  5) popularity of books from the ratings count\n",
    "* are Bertelsmann scholars interested in popular books more?\n",
    "* compare the rating of books across groups \n",
    "* generate percentage plot for the Bertelsmann aganist all other groups \n"
   ]
  },
  {
   "cell_type": "code",
   "execution_count": 35,
   "metadata": {},
   "outputs": [],
   "source": [
    "df_new_grouped_cnt = pd.DataFrame.copy(df[['club_name','ratings_cnt','title']])\n",
    "df_new_grouped_cnt['club_classified'] = np.where(df_new_grouped_cnt['club_name']=='Bertelsmann Data Science book readers', 'Bertelsmann', 'Other groups')\n",
    "del df_new_grouped_cnt['club_name']\n"
   ]
  },
  {
   "cell_type": "code",
   "execution_count": 36,
   "metadata": {},
   "outputs": [
    {
     "data": {
      "text/html": [
       "<div>\n",
       "<style scoped>\n",
       "    .dataframe tbody tr th:only-of-type {\n",
       "        vertical-align: middle;\n",
       "    }\n",
       "\n",
       "    .dataframe tbody tr th {\n",
       "        vertical-align: top;\n",
       "    }\n",
       "\n",
       "    .dataframe thead th {\n",
       "        text-align: right;\n",
       "    }\n",
       "</style>\n",
       "<table border=\"1\" class=\"dataframe\">\n",
       "  <thead>\n",
       "    <tr style=\"text-align: right;\">\n",
       "      <th>club_classified</th>\n",
       "      <th>Bertelsmann</th>\n",
       "      <th>Other groups</th>\n",
       "    </tr>\n",
       "    <tr>\n",
       "      <th>ratings_cnt</th>\n",
       "      <th></th>\n",
       "      <th></th>\n",
       "    </tr>\n",
       "  </thead>\n",
       "  <tbody>\n",
       "    <tr>\n",
       "      <th>(14.999, 4041.0]</th>\n",
       "      <td>76</td>\n",
       "      <td>322</td>\n",
       "    </tr>\n",
       "    <tr>\n",
       "      <th>(4041.0, 10664.0]</th>\n",
       "      <td>76</td>\n",
       "      <td>322</td>\n",
       "    </tr>\n",
       "    <tr>\n",
       "      <th>(10664.0, 27715.0]</th>\n",
       "      <td>48</td>\n",
       "      <td>354</td>\n",
       "    </tr>\n",
       "    <tr>\n",
       "      <th>(27715.0, 66520.0]</th>\n",
       "      <td>56</td>\n",
       "      <td>340</td>\n",
       "    </tr>\n",
       "    <tr>\n",
       "      <th>(66520.0, 142123.0]</th>\n",
       "      <td>65</td>\n",
       "      <td>327</td>\n",
       "    </tr>\n",
       "    <tr>\n",
       "      <th>(142123.0, 325000.0]</th>\n",
       "      <td>115</td>\n",
       "      <td>289</td>\n",
       "    </tr>\n",
       "    <tr>\n",
       "      <th>(325000.0, 722243.0]</th>\n",
       "      <td>107</td>\n",
       "      <td>285</td>\n",
       "    </tr>\n",
       "    <tr>\n",
       "      <th>(722243.0, 5357646.0]</th>\n",
       "      <td>163</td>\n",
       "      <td>232</td>\n",
       "    </tr>\n",
       "  </tbody>\n",
       "</table>\n",
       "</div>"
      ],
      "text/plain": [
       "club_classified        Bertelsmann  Other groups\n",
       "ratings_cnt                                     \n",
       "(14.999, 4041.0]                76           322\n",
       "(4041.0, 10664.0]               76           322\n",
       "(10664.0, 27715.0]              48           354\n",
       "(27715.0, 66520.0]              56           340\n",
       "(66520.0, 142123.0]             65           327\n",
       "(142123.0, 325000.0]           115           289\n",
       "(325000.0, 722243.0]           107           285\n",
       "(722243.0, 5357646.0]          163           232"
      ]
     },
     "execution_count": 36,
     "metadata": {},
     "output_type": "execute_result"
    }
   ],
   "source": [
    "# divide the ratings count into 8 divisons to make it easier to compare \n",
    "segmented_count = df_new_grouped_cnt.groupby([pd.qcut(df_new_grouped_cnt['ratings_cnt'], q=8),'club_classified']).count()\n",
    "segmented_count['title'].unstack()"
   ]
  },
  {
   "cell_type": "code",
   "execution_count": 42,
   "metadata": {},
   "outputs": [
    {
     "data": {
      "text/html": [
       "<div>\n",
       "<style scoped>\n",
       "    .dataframe tbody tr th:only-of-type {\n",
       "        vertical-align: middle;\n",
       "    }\n",
       "\n",
       "    .dataframe tbody tr th {\n",
       "        vertical-align: top;\n",
       "    }\n",
       "\n",
       "    .dataframe thead th {\n",
       "        text-align: right;\n",
       "    }\n",
       "</style>\n",
       "<table border=\"1\" class=\"dataframe\">\n",
       "  <thead>\n",
       "    <tr style=\"text-align: right;\">\n",
       "      <th>club_classified</th>\n",
       "      <th>Bertelsmann</th>\n",
       "      <th>Other groups</th>\n",
       "    </tr>\n",
       "    <tr>\n",
       "      <th>ratings_cnt</th>\n",
       "      <th></th>\n",
       "      <th></th>\n",
       "    </tr>\n",
       "  </thead>\n",
       "  <tbody>\n",
       "    <tr>\n",
       "      <th>(14.999, 4041.0]</th>\n",
       "      <td>76</td>\n",
       "      <td>322</td>\n",
       "    </tr>\n",
       "    <tr>\n",
       "      <th>(4041.0, 10664.0]</th>\n",
       "      <td>76</td>\n",
       "      <td>322</td>\n",
       "    </tr>\n",
       "    <tr>\n",
       "      <th>(10664.0, 27715.0]</th>\n",
       "      <td>48</td>\n",
       "      <td>354</td>\n",
       "    </tr>\n",
       "    <tr>\n",
       "      <th>(27715.0, 66520.0]</th>\n",
       "      <td>56</td>\n",
       "      <td>340</td>\n",
       "    </tr>\n",
       "    <tr>\n",
       "      <th>(66520.0, 142123.0]</th>\n",
       "      <td>65</td>\n",
       "      <td>327</td>\n",
       "    </tr>\n",
       "    <tr>\n",
       "      <th>(142123.0, 325000.0]</th>\n",
       "      <td>115</td>\n",
       "      <td>289</td>\n",
       "    </tr>\n",
       "    <tr>\n",
       "      <th>(325000.0, 722243.0]</th>\n",
       "      <td>107</td>\n",
       "      <td>285</td>\n",
       "    </tr>\n",
       "    <tr>\n",
       "      <th>(722243.0, 5357646.0]</th>\n",
       "      <td>163</td>\n",
       "      <td>232</td>\n",
       "    </tr>\n",
       "  </tbody>\n",
       "</table>\n",
       "</div>"
      ],
      "text/plain": [
       "club_classified        Bertelsmann  Other groups\n",
       "ratings_cnt                                     \n",
       "(14.999, 4041.0]                76           322\n",
       "(4041.0, 10664.0]               76           322\n",
       "(10664.0, 27715.0]              48           354\n",
       "(27715.0, 66520.0]              56           340\n",
       "(66520.0, 142123.0]             65           327\n",
       "(142123.0, 325000.0]           115           289\n",
       "(325000.0, 722243.0]           107           285\n",
       "(722243.0, 5357646.0]          163           232"
      ]
     },
     "execution_count": 42,
     "metadata": {},
     "output_type": "execute_result"
    }
   ],
   "source": [
    "segmented_count['title'].unstack(level=1)"
   ]
  },
  {
   "cell_type": "code",
   "execution_count": 44,
   "metadata": {},
   "outputs": [
    {
     "data": {
      "image/png": "[encoded data removed]",
      "text/plain": [
       "<Figure size 576x432 with 1 Axes>"
      ]
     },
     "metadata": {},
     "output_type": "display_data"
    }
   ],
   "source": [
    "segmented_count['title'].unstack(level=1).plot(kind='bar', figsize = (8,6))\n",
    "plt.legend(loc='best', fontsize = 10)\n",
    "plt.xlabel('ratings_cnt', size = 12)\n",
    "plt.ylabel('count', size = 12)\n",
    "plt.tick_params(axis='both',which='both',labelsize=10)\n"
   ]
  },
  {
   "cell_type": "code",
   "execution_count": 37,
   "metadata": {},
   "outputs": [
    {
     "name": "stderr",
     "output_type": "stream",
     "text": [
      "/usr/local/lib/python3.6/dist-packages/ipykernel_launcher.py:3: FutureWarning: using a dict on a Series for aggregation\n",
      "is deprecated and will be removed in a future version\n",
      "  This is separate from the ipykernel package so we can avoid doing imports until\n"
     ]
    },
    {
     "data": {
      "text/html": [
       "<div>\n",
       "<style scoped>\n",
       "    .dataframe tbody tr th:only-of-type {\n",
       "        vertical-align: middle;\n",
       "    }\n",
       "\n",
       "    .dataframe tbody tr th {\n",
       "        vertical-align: top;\n",
       "    }\n",
       "\n",
       "    .dataframe thead tr th {\n",
       "        text-align: left;\n",
       "    }\n",
       "\n",
       "    .dataframe thead tr:last-of-type th {\n",
       "        text-align: right;\n",
       "    }\n",
       "</style>\n",
       "<table border=\"1\" class=\"dataframe\">\n",
       "  <thead>\n",
       "    <tr>\n",
       "      <th></th>\n",
       "      <th colspan=\"2\" halign=\"left\">percentage</th>\n",
       "    </tr>\n",
       "    <tr>\n",
       "      <th>club_classified</th>\n",
       "      <th>Bertelsmann</th>\n",
       "      <th>Other groups</th>\n",
       "    </tr>\n",
       "    <tr>\n",
       "      <th>ratings_cnt</th>\n",
       "      <th></th>\n",
       "      <th></th>\n",
       "    </tr>\n",
       "  </thead>\n",
       "  <tbody>\n",
       "    <tr>\n",
       "      <th>(14.999, 3228.0]</th>\n",
       "      <td>9.915014</td>\n",
       "      <td>10.117361</td>\n",
       "    </tr>\n",
       "    <tr>\n",
       "      <th>(3228.0, 7316.0]</th>\n",
       "      <td>6.515581</td>\n",
       "      <td>10.926750</td>\n",
       "    </tr>\n",
       "    <tr>\n",
       "      <th>(7316.0, 15321.0]</th>\n",
       "      <td>8.215297</td>\n",
       "      <td>10.602995</td>\n",
       "    </tr>\n",
       "    <tr>\n",
       "      <th>(15321.0, 34494.0]</th>\n",
       "      <td>6.373938</td>\n",
       "      <td>11.129098</td>\n",
       "    </tr>\n",
       "    <tr>\n",
       "      <th>(34494.0, 66520.0]</th>\n",
       "      <td>5.240793</td>\n",
       "      <td>11.371914</td>\n",
       "    </tr>\n",
       "    <tr>\n",
       "      <th>(66520.0, 121068.0]</th>\n",
       "      <td>5.240793</td>\n",
       "      <td>11.169567</td>\n",
       "    </tr>\n",
       "    <tr>\n",
       "      <th>(121068.0, 215497.0]</th>\n",
       "      <td>13.031161</td>\n",
       "      <td>9.186564</td>\n",
       "    </tr>\n",
       "    <tr>\n",
       "      <th>(215497.0, 455428.0]</th>\n",
       "      <td>13.031161</td>\n",
       "      <td>9.065156</td>\n",
       "    </tr>\n",
       "    <tr>\n",
       "      <th>(455428.0, 952885.0]</th>\n",
       "      <td>12.464589</td>\n",
       "      <td>9.793606</td>\n",
       "    </tr>\n",
       "    <tr>\n",
       "      <th>(952885.0, 5357646.0]</th>\n",
       "      <td>19.971671</td>\n",
       "      <td>6.636989</td>\n",
       "    </tr>\n",
       "  </tbody>\n",
       "</table>\n",
       "</div>"
      ],
      "text/plain": [
       "                       percentage             \n",
       "club_classified       Bertelsmann Other groups\n",
       "ratings_cnt                                   \n",
       "(14.999, 3228.0]         9.915014    10.117361\n",
       "(3228.0, 7316.0]         6.515581    10.926750\n",
       "(7316.0, 15321.0]        8.215297    10.602995\n",
       "(15321.0, 34494.0]       6.373938    11.129098\n",
       "(34494.0, 66520.0]       5.240793    11.371914\n",
       "(66520.0, 121068.0]      5.240793    11.169567\n",
       "(121068.0, 215497.0]    13.031161     9.186564\n",
       "(215497.0, 455428.0]    13.031161     9.065156\n",
       "(455428.0, 952885.0]    12.464589     9.793606\n",
       "(952885.0, 5357646.0]   19.971671     6.636989"
      ]
     },
     "execution_count": 37,
     "metadata": {},
     "output_type": "execute_result"
    }
   ],
   "source": [
    "# calculate the percentage of each ratings count divison for Bertelsmann and other groups\n",
    "\n",
    "segement_cnt2 = df_new_grouped_cnt.groupby([pd.qcut(df_new_grouped_cnt['ratings_cnt'], q=10),'club_classified'])['title'].agg({'percentage':'count'})\n",
    "segement_cnt2_percentage = segement_cnt2.groupby(level='club_classified').apply(lambda x: 100 * x / float(x.sum()))\n",
    "segement_cnt2_percentage.unstack()"
   ]
  },
  {
   "cell_type": "code",
   "execution_count": 45,
   "metadata": {},
   "outputs": [
    {
     "data": {
      "image/png": "[encoded data removed]",
      "text/plain": [
       "<Figure size 576x432 with 1 Axes>"
      ]
     },
     "metadata": {},
     "output_type": "display_data"
    }
   ],
   "source": [
    "# plot the percentage of each \n",
    "segement_cnt2_percentage.unstack(level=1).plot(kind='bar',  y = 'percentage',figsize = (8,6))\n",
    "plt.legend(loc='best', fontsize = 10)\n",
    "plt.xlabel('ratings_cnt', size = 12)\n",
    "plt.ylabel('Percentage', size = 12)\n",
    "plt.tick_params(axis='both',which='both',labelsize=10)\n"
   ]
  },
  {
   "cell_type": "markdown",
   "metadata": {},
   "source": [
    "##### conculsion\n",
    "* we divided the ratings count into 8 divisons to make it easier to plot and group the rating count\n",
    "* we can notice that for books with ratings of 121068 Bertelsmann scholars read more compare to the other groups\n"
   ]
  },
  {
   "cell_type": "markdown",
   "metadata": {},
   "source": [
    "### 6) genres popular across the groups \n",
    "* what are the top 5 most common genres for each group \n",
    "* popular genres for Bertelsmann were: ficition, novel, classics, literature, fantasy while other groups had fiction, novel, history, adult, classics "
   ]
  },
  {
   "cell_type": "code",
   "execution_count": 46,
   "metadata": {},
   "outputs": [
    {
     "data": {
      "text/plain": [
       "club_classified  genre     \n",
       "Bertelsmann      fiction       13.031161\n",
       "                 novel          9.631728\n",
       "                 classics       7.648725\n",
       "                 literature     7.082153\n",
       "                 fantasy        6.515581\n",
       "Other groups     fiction       16.875759\n",
       "                 novel          7.001214\n",
       "                 history        6.636989\n",
       "                 adult          6.434642\n",
       "                 classics       6.394172\n",
       "Name: title, dtype: float64"
      ]
     },
     "execution_count": 46,
     "metadata": {},
     "output_type": "execute_result"
    }
   ],
   "source": [
    "\n",
    "df_g_count = df_new_grouped.groupby([\"club_classified\",\"genre\"])['title'].count()\n",
    "g_percentage = df_g_count.groupby(level='club_classified').apply(lambda x: 100 * x / float(x.sum()))\n",
    "\n",
    "g2 = g_percentage.groupby(level=0, group_keys=False)\n",
    "g2.nlargest(5)"
   ]
  },
  {
   "cell_type": "code",
   "execution_count": 47,
   "metadata": {},
   "outputs": [
    {
     "data": {
      "text/plain": [
       "club_name                                      genre      \n",
       "Bertelsmann Data Science book readers          fiction        13.031161\n",
       "                                               novel           9.631728\n",
       "                                               classics        7.648725\n",
       "                                               literature      7.082153\n",
       "                                               fantasy         6.515581\n",
       "Gone with a Book                               fiction        15.596330\n",
       "                                               novel           9.174312\n",
       "                                               adult           7.339450\n",
       "                                               classics        6.422018\n",
       "                                               history         6.422018\n",
       "Pop Sugar's Annual Ultimate Reading Challenge  fiction        16.077537\n",
       "                                               fantasy         7.411631\n",
       "                                               adult           6.727480\n",
       "                                               young-adult     5.587229\n",
       "                                               classics        5.359179\n",
       "Reading with Style                             fiction        17.441077\n",
       "                                               novel           8.215488\n",
       "                                               history         7.407407\n",
       "                                               literature      7.340067\n",
       "                                               classics        7.003367\n",
       "Name: title, dtype: float64"
      ]
     },
     "execution_count": 47,
     "metadata": {},
     "output_type": "execute_result"
    }
   ],
   "source": [
    "df_g_count = df.groupby([\"club_name\",\"genre\"])['title'].count()\n",
    "g_percentage = df_g_count.groupby(level='club_name').apply(lambda x: 100 * x / float(x.sum()))\n",
    "\n",
    "g2 = g_percentage.groupby(level=0, group_keys=False)\n",
    "g2.nlargest(5)"
   ]
  }
 ],
 "metadata": {
  "kernelspec": {
   "display_name": "Python 3",
   "language": "python",
   "name": "python3"
  },
  "language_info": {
   "codemirror_mode": {
    "name": "ipython",
    "version": 3
   },
   "file_extension": ".py",
   "mimetype": "text/x-python",
   "name": "python",
   "nbconvert_exporter": "python",
   "pygments_lexer": "ipython3",
   "version": "3.6.6"
  }
 },
 "nbformat": 4,
 "nbformat_minor": 2
}
