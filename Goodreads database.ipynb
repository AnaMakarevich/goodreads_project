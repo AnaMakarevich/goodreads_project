{
 "cells": [
  {
   "cell_type": "markdown",
   "metadata": {},
   "source": [
    "# Goodreads Database"
   ]
  },
  {
   "cell_type": "markdown",
   "metadata": {},
   "source": [
    "## Summary\n",
    "<b>Goals</b>:\n",
    "- create a database with 3 tables:\n",
    "    - books\n",
    "    - genres\n",
    "    - book-genre pairs  \n",
    "    \n",
    "<b>Source data</b>: \n",
    "- csv file for GoodReads created in Phase 1 of the project (link)  \n",
    "\n",
    "<b>Implementation:</b>  \n",
    "For this purposes we used Amazon RDS instance with MySQL rdbms. We need to designe the schema, implement this schema on the existing instance and then populate the created tables with our data.  \n",
    "SQL scripts were run with DBeaver. It's possible to do with Python libs, but with DBeaver it turned out to be faster and cleaner. "
   ]
  },
  {
   "cell_type": "markdown",
   "metadata": {},
   "source": [
    "## DB Schema"
   ]
  },
  {
   "cell_type": "code",
   "execution_count": 15,
   "metadata": {},
   "outputs": [
    {
     "data": {
      "text/html": [
       "<h3>ER-diagram</h3>"
      ],
      "text/plain": [
       "<IPython.core.display.HTML object>"
      ]
     },
     "execution_count": 15,
     "metadata": {},
     "output_type": "execute_result"
    }
   ],
   "source": [
    "from IPython.display import Image\n",
    "from IPython.core.display import HTML \n",
    "HTML(\"<h3>ER-diagram</h3>\")"
   ]
  },
  {
   "cell_type": "code",
   "execution_count": 16,
   "metadata": {},
   "outputs": [
    {
     "data": {
      "text/html": [
       "<img src=\"gr_erd.png\"/>"
      ],
      "text/plain": [
       "<IPython.core.display.Image object>"
      ]
     },
     "execution_count": 16,
     "metadata": {},
     "output_type": "execute_result"
    }
   ],
   "source": [
    "Image(url= \"gr_erd.png\")"
   ]
  },
  {
   "cell_type": "markdown",
   "metadata": {},
   "source": [
    "### Books table creation script"
   ]
  },
  {
   "cell_type": "code",
   "execution_count": 33,
   "metadata": {},
   "outputs": [],
   "source": [
    "books_table_sql =\"\"\"\n",
    "CREATE TABLE bidb.gr_books (  \n",
    "\tbook_id BIGINT NOT NULL,  \n",
    "\ttitle varchar(255) NOT NULL,  \n",
    "\treviews_cnt INT NULL,  \n",
    "\tratings_cnt INT NULL,  \n",
    "\tpub_year INT NULL,  \n",
    "\tavg_rating FLOAT NULL,  \n",
    "\talt_avg_rating FLOAT NULL,  \n",
    "\tauthor_1_name varchar(100) NULL,  \n",
    "\tauthor_1_avg_rating FLOAT NULL,  \n",
    "\tCONSTRAINT gr_books_PK PRIMARY KEY (book_id)  \n",
    ")  \n",
    "ENGINE=InnoDB  \n",
    "DEFAULT CHARSET=utf8  \n",
    "COLLATE=utf8_general_ci;\n",
    "\"\"\""
   ]
  },
  {
   "cell_type": "markdown",
   "metadata": {},
   "source": [
    "### Genres table creation script"
   ]
  },
  {
   "cell_type": "code",
   "execution_count": 34,
   "metadata": {},
   "outputs": [],
   "source": [
    "genres_table_sql = \"\"\"\n",
    "CREATE TABLE bidb.gr_genres (\n",
    "\tgenre_id varchar(100) NOT NULL,\n",
    "\tname varchar(100) NULL,\n",
    "\tCONSTRAINT gr_genres_PK PRIMARY KEY (genre_id)\n",
    ")\n",
    "ENGINE=InnoDB\n",
    "DEFAULT CHARSET=utf8\n",
    "COLLATE=utf8_general_ci;\n",
    "\"\"\""
   ]
  },
  {
   "cell_type": "markdown",
   "metadata": {},
   "source": [
    "### Genre-book table (many-to-many relationship)"
   ]
  },
  {
   "cell_type": "code",
   "execution_count": 35,
   "metadata": {},
   "outputs": [],
   "source": [
    "genre_book_sql = \"\"\"\n",
    "CREATE TABLE bidb.gr_genre_book (\n",
    "\tbook_id BIGINT NOT NULL,\n",
    "\tgenre_id VARCHAR(100) NOT NULL,\n",
    "\tid BIGINT NOT NULL AUTO_INCREMENT,\n",
    "\tCONSTRAINT gr_genre_book_PK PRIMARY KEY (id),\n",
    "\tCONSTRAINT gr_genre_book_gr_books_FK FOREIGN KEY (book_id) REFERENCES bidb.gr_books(book_id),\n",
    "\tCONSTRAINT gr_genre_book_gr_genres_FK FOREIGN KEY (genre_id) REFERENCES bidb.gr_genres(genre_id)\n",
    ")\n",
    "ENGINE=InnoDB\n",
    "DEFAULT CHARSET=utf8\n",
    "COLLATE=utf8_general_ci;\n",
    "\"\"\""
   ]
  },
  {
   "cell_type": "markdown",
   "metadata": {},
   "source": [
    "## Step 1: Create books table\n",
    "### Preparing the data\n",
    "For the books table we alredy have books ids, so we can re-use them. Since we're going to create a separate table for genres, we need to exclude these columns. This can be done is various ways. "
   ]
  },
  {
   "cell_type": "code",
   "execution_count": 1,
   "metadata": {},
   "outputs": [],
   "source": [
    "# Import the necessray libraries\n",
    "import pandas as pd\n",
    "#import numpy as np"
   ]
  },
  {
   "cell_type": "code",
   "execution_count": 21,
   "metadata": {},
   "outputs": [],
   "source": [
    "# read in the csv file prepared in Phase 1 of the project\n",
    "df = pd.read_csv(\"gr_books_v4.csv\")"
   ]
  },
  {
   "cell_type": "code",
   "execution_count": 47,
   "metadata": {},
   "outputs": [
    {
     "name": "stdout",
     "output_type": "stream",
     "text": [
      "Index(['id', 'title', 'reviews_cnt', 'ratings_cnt', 'pub_year', 'avg_rating',\n",
      "       'alt_avg_rating', 'author1_name', 'author1_role', 'author1_avg_rating',\n",
      "       'author2_name', 'author2_role', 'author2_avg_rating', 'author3_name',\n",
      "       'author3_role', 'author3_avg_rating', 'genres', 'Genre_1', 'Genre_2',\n",
      "       'Genre_3', 'Genre_4', 'Genre_5', 'Genre_6', 'Genre_7', 'Genre_8',\n",
      "       'Genre_9', 'Genre_10', 'Genre_11'],\n",
      "      dtype='object')\n"
     ]
    }
   ],
   "source": [
    "# show the columns that we have now\n",
    "print(df.columns)"
   ]
  },
  {
   "cell_type": "markdown",
   "metadata": {},
   "source": [
    "For our books table we only need columns 1-8 and 10. We exclude author1_role becuse it's irrelevant for our purposes. "
   ]
  },
  {
   "cell_type": "code",
   "execution_count": 46,
   "metadata": {},
   "outputs": [
    {
     "name": "stdout",
     "output_type": "stream",
     "text": [
      "['id', 'title', 'reviews_cnt', 'ratings_cnt', 'pub_year', 'avg_rating', 'alt_avg_rating', 'author1_name', 'author1_avg_rating']\n"
     ]
    }
   ],
   "source": [
    "columns = list(df.columns)\n",
    "books_columns = columns[:8] + [columns[9]]\n",
    "print(books_columns)"
   ]
  },
  {
   "cell_type": "markdown",
   "metadata": {},
   "source": [
    "Now we only need to save it to a file again: "
   ]
  },
  {
   "cell_type": "code",
   "execution_count": 29,
   "metadata": {},
   "outputs": [
    {
     "data": {
      "text/html": [
       "<div>\n",
       "<style scoped>\n",
       "    .dataframe tbody tr th:only-of-type {\n",
       "        vertical-align: middle;\n",
       "    }\n",
       "\n",
       "    .dataframe tbody tr th {\n",
       "        vertical-align: top;\n",
       "    }\n",
       "\n",
       "    .dataframe thead th {\n",
       "        text-align: right;\n",
       "    }\n",
       "</style>\n",
       "<table border=\"1\" class=\"dataframe\">\n",
       "  <thead>\n",
       "    <tr style=\"text-align: right;\">\n",
       "      <th></th>\n",
       "      <th>id</th>\n",
       "      <th>title</th>\n",
       "      <th>reviews_cnt</th>\n",
       "      <th>ratings_cnt</th>\n",
       "      <th>pub_year</th>\n",
       "      <th>avg_rating</th>\n",
       "      <th>alt_avg_rating</th>\n",
       "      <th>author1_name</th>\n",
       "      <th>author1_avg_rating</th>\n",
       "    </tr>\n",
       "  </thead>\n",
       "  <tbody>\n",
       "    <tr>\n",
       "      <th>0</th>\n",
       "      <td>37424706</td>\n",
       "      <td>The Art of Gathering: How We Meet and Why It M...</td>\n",
       "      <td>1367</td>\n",
       "      <td>23</td>\n",
       "      <td>NaN</td>\n",
       "      <td>4.30</td>\n",
       "      <td>4.304348</td>\n",
       "      <td>Priya Parker</td>\n",
       "      <td>4.30</td>\n",
       "    </tr>\n",
       "    <tr>\n",
       "      <th>1</th>\n",
       "      <td>117833</td>\n",
       "      <td>The Master and Margarita</td>\n",
       "      <td>331567</td>\n",
       "      <td>178007</td>\n",
       "      <td>1967.0</td>\n",
       "      <td>4.32</td>\n",
       "      <td>4.316718</td>\n",
       "      <td>Mikhail Bulgakov</td>\n",
       "      <td>4.25</td>\n",
       "    </tr>\n",
       "    <tr>\n",
       "      <th>2</th>\n",
       "      <td>18632929</td>\n",
       "      <td>Kaip atpažinti psichopatą</td>\n",
       "      <td>295551</td>\n",
       "      <td>96957</td>\n",
       "      <td>2012.0</td>\n",
       "      <td>3.92</td>\n",
       "      <td>3.922079</td>\n",
       "      <td>Jon Ronson</td>\n",
       "      <td>3.90</td>\n",
       "    </tr>\n",
       "    <tr>\n",
       "      <th>3</th>\n",
       "      <td>1953</td>\n",
       "      <td>A Tale of Two Cities</td>\n",
       "      <td>1240390</td>\n",
       "      <td>710415</td>\n",
       "      <td>1859.0</td>\n",
       "      <td>3.82</td>\n",
       "      <td>3.820596</td>\n",
       "      <td>Charles Dickens</td>\n",
       "      <td>3.87</td>\n",
       "    </tr>\n",
       "    <tr>\n",
       "      <th>4</th>\n",
       "      <td>5130</td>\n",
       "      <td>Island</td>\n",
       "      <td>50444</td>\n",
       "      <td>18565</td>\n",
       "      <td>1962.0</td>\n",
       "      <td>3.87</td>\n",
       "      <td>3.866792</td>\n",
       "      <td>Aldous Huxley</td>\n",
       "      <td>3.98</td>\n",
       "    </tr>\n",
       "  </tbody>\n",
       "</table>\n",
       "</div>"
      ],
      "text/plain": [
       "         id                                              title  reviews_cnt  \\\n",
       "0  37424706  The Art of Gathering: How We Meet and Why It M...         1367   \n",
       "1    117833                           The Master and Margarita       331567   \n",
       "2  18632929                          Kaip atpažinti psichopatą       295551   \n",
       "3      1953                               A Tale of Two Cities      1240390   \n",
       "4      5130                                             Island        50444   \n",
       "\n",
       "   ratings_cnt  pub_year  avg_rating  alt_avg_rating      author1_name  \\\n",
       "0           23       NaN        4.30        4.304348      Priya Parker   \n",
       "1       178007    1967.0        4.32        4.316718  Mikhail Bulgakov   \n",
       "2        96957    2012.0        3.92        3.922079        Jon Ronson   \n",
       "3       710415    1859.0        3.82        3.820596   Charles Dickens   \n",
       "4        18565    1962.0        3.87        3.866792     Aldous Huxley   \n",
       "\n",
       "   author1_avg_rating  \n",
       "0                4.30  \n",
       "1                4.25  \n",
       "2                3.90  \n",
       "3                3.87  \n",
       "4                3.98  "
      ]
     },
     "execution_count": 29,
     "metadata": {},
     "output_type": "execute_result"
    }
   ],
   "source": [
    "books_only = df[books_columns]\n",
    "books_only.to_csv('books_only.csv', index = False)\n",
    "books_only.head()"
   ]
  },
  {
   "cell_type": "markdown",
   "metadata": {},
   "source": [
    "### Populating the table"
   ]
  },
  {
   "cell_type": "code",
   "execution_count": 36,
   "metadata": {},
   "outputs": [],
   "source": [
    "books_table_populate_sql = \"\"\"\n",
    "LOAD DATA LOCAL INFILE '/Users/anamakarevich/gr_books_only.csv'\n",
    "INTO TABLE gr_books\n",
    "FIELDS TERMINATED BY ','\n",
    "    ENCLOSED BY '\"'\n",
    "LINES TERMINATED BY '\\n'\n",
    "IGNORE 1 ROWS\n",
    "(book_id, title, reviews_cnt, ratings_cnt, pub_year, avg_rating, alt_avg_rating, author_1_name, author_1_avg_rating)\n",
    "\"\"\""
   ]
  },
  {
   "cell_type": "markdown",
   "metadata": {},
   "source": [
    "## Step 2: Create genres table"
   ]
  },
  {
   "cell_type": "markdown",
   "metadata": {},
   "source": [
    "### Preparing the data "
   ]
  },
  {
   "cell_type": "markdown",
   "metadata": {},
   "source": [
    "For genres we need to extract all the genres present in the table and assign them some ids so that we can reference them in the book_genre table. \n",
    "First, we will create a helper function to generate the column names for genres. "
   ]
  },
  {
   "cell_type": "code",
   "execution_count": 37,
   "metadata": {},
   "outputs": [],
   "source": [
    "def get_columns(n_genres):\n",
    "    result = []\n",
    "    for i in range(1,n_genres+1):\n",
    "        result.append('Genre_'+str(i))\n",
    "    return result"
   ]
  },
  {
   "cell_type": "code",
   "execution_count": 45,
   "metadata": {},
   "outputs": [
    {
     "name": "stdout",
     "output_type": "stream",
     "text": [
      "['Genre_1', 'Genre_2', 'Genre_3', 'Genre_4', 'Genre_5', 'Genre_6', 'Genre_7', 'Genre_8', 'Genre_9', 'Genre_10', 'Genre_11']\n"
     ]
    }
   ],
   "source": [
    "# get the columns with genres\n",
    "genre_columns = get_columns(11)\n",
    "print(genre_columns)"
   ]
  },
  {
   "cell_type": "markdown",
   "metadata": {},
   "source": [
    "Next we actually extract the values of the genres for all the books and create a set of genres."
   ]
  },
  {
   "cell_type": "code",
   "execution_count": 44,
   "metadata": {},
   "outputs": [
    {
     "name": "stdout",
     "output_type": "stream",
     "text": [
      "{'romance', 'history', 'science', 'science-fiction', 'personal-development', 'non-fiction', 'politics', 'literature', 'fiction', 'adult', 'children', 'american', 'biography', 'mystery', 'adventure', 'dystopia', 'contemporary', 'philosophy', 'fantasy', 'young-adult', 'british', 'classics', 'psychology', 'economics', 'novel'}\n"
     ]
    }
   ],
   "source": [
    "# extract just the genres (replacinng None with empty string so that it's easy to remove it later)\n",
    "set_of_genres = set(df[genre_columns].fillna('').values.flatten())\n",
    "# remove empty strings\n",
    "set_of_genres.remove('')\n",
    "print(set_of_genres)"
   ]
  },
  {
   "cell_type": "markdown",
   "metadata": {},
   "source": [
    "We have successfully extracted our genres and ready to create a source file for genres. The last thing we need to do is to assign ids to genres which can be done very easily when creating a data frame.  \n",
    "Note: we could have created ids automatically in the db, but I decided to try both ways. The last table with use automatic id creation with autoincrement. "
   ]
  },
  {
   "cell_type": "code",
   "execution_count": 50,
   "metadata": {},
   "outputs": [
    {
     "data": {
      "text/html": [
       "<div>\n",
       "<style scoped>\n",
       "    .dataframe tbody tr th:only-of-type {\n",
       "        vertical-align: middle;\n",
       "    }\n",
       "\n",
       "    .dataframe tbody tr th {\n",
       "        vertical-align: top;\n",
       "    }\n",
       "\n",
       "    .dataframe thead th {\n",
       "        text-align: right;\n",
       "    }\n",
       "</style>\n",
       "<table border=\"1\" class=\"dataframe\">\n",
       "  <thead>\n",
       "    <tr style=\"text-align: right;\">\n",
       "      <th></th>\n",
       "      <th>genre_id</th>\n",
       "      <th>name</th>\n",
       "    </tr>\n",
       "  </thead>\n",
       "  <tbody>\n",
       "    <tr>\n",
       "      <th>0</th>\n",
       "      <td>0</td>\n",
       "      <td>romance</td>\n",
       "    </tr>\n",
       "    <tr>\n",
       "      <th>1</th>\n",
       "      <td>1</td>\n",
       "      <td>history</td>\n",
       "    </tr>\n",
       "    <tr>\n",
       "      <th>2</th>\n",
       "      <td>2</td>\n",
       "      <td>science</td>\n",
       "    </tr>\n",
       "    <tr>\n",
       "      <th>3</th>\n",
       "      <td>3</td>\n",
       "      <td>science-fiction</td>\n",
       "    </tr>\n",
       "    <tr>\n",
       "      <th>4</th>\n",
       "      <td>4</td>\n",
       "      <td>personal-development</td>\n",
       "    </tr>\n",
       "  </tbody>\n",
       "</table>\n",
       "</div>"
      ],
      "text/plain": [
       "   genre_id                  name\n",
       "0         0               romance\n",
       "1         1               history\n",
       "2         2               science\n",
       "3         3       science-fiction\n",
       "4         4  personal-development"
      ]
     },
     "execution_count": 50,
     "metadata": {},
     "output_type": "execute_result"
    }
   ],
   "source": [
    "genres_df = pd.DataFrame({'genre_id':range(len(set_of_genres)), 'name': list(set_of_genres)})\n",
    "# save to .csv\n",
    "genres_df.to_csv('genres_only.csv', index = False)\n",
    "genres_df.head()"
   ]
  },
  {
   "cell_type": "markdown",
   "metadata": {},
   "source": [
    "### Populating the table "
   ]
  },
  {
   "cell_type": "code",
   "execution_count": 51,
   "metadata": {},
   "outputs": [],
   "source": [
    "genres_table_populate_sql = \"\"\"\n",
    "LOAD DATA LOCAL INFILE '/Users/anamakarevich/genres_only.csv'\n",
    "INTO TABLE gr_genres\n",
    "FIELDS TERMINATED BY ','\n",
    "    ENCLOSED BY '\"'\n",
    "LINES TERMINATED BY '\\n'\n",
    "IGNORE 1 ROWS\n",
    "(genre_id, name)\n",
    "\"\"\""
   ]
  },
  {
   "cell_type": "markdown",
   "metadata": {},
   "source": [
    "## Step 3: Create genre-book table "
   ]
  },
  {
   "cell_type": "markdown",
   "metadata": {},
   "source": [
    "The last table is the most complicates since we have many to many relationship here which should be implemented with the additional table that matches books ids to genres ids.  \n",
    "The first thing to do is to create a lookup dictionary for genres and ids so that we can build the required table. "
   ]
  },
  {
   "cell_type": "code",
   "execution_count": 54,
   "metadata": {},
   "outputs": [],
   "source": [
    "# create dictionary for genres for fast lookup\n",
    "genres_dict = dict(zip(genres_df.name, genres_df.genre_id))"
   ]
  },
  {
   "cell_type": "code",
   "execution_count": 55,
   "metadata": {},
   "outputs": [
    {
     "name": "stdout",
     "output_type": "stream",
     "text": [
      "{'romance': 0, 'history': 1, 'science': 2, 'science-fiction': 3, 'personal-development': 4, 'non-fiction': 5, 'politics': 6, 'literature': 7, 'fiction': 8, 'adult': 9, 'children': 10, 'american': 11, 'biography': 12, 'mystery': 13, 'adventure': 14, 'dystopia': 15, 'contemporary': 16, 'philosophy': 17, 'fantasy': 18, 'young-adult': 19, 'british': 20, 'classics': 21, 'psychology': 22, 'economics': 23, 'novel': 24}\n"
     ]
    }
   ],
   "source": [
    "print(genres_dict)"
   ]
  },
  {
   "cell_type": "markdown",
   "metadata": {},
   "source": [
    "Next we will write a function that will actually match the book ids and genre ids. To do that, we need to iterate though through the rows of the original data frame - we only need two columns: id (book id) and genres which contains a list of genres. We user .values instead of .iterrows() because .values actually provides us with the numpy array which is more efficient for this purpose. And that's why we address the columns by numbers instead of name - each row is just an array in this case. "
   ]
  },
  {
   "cell_type": "code",
   "execution_count": 60,
   "metadata": {},
   "outputs": [],
   "source": [
    "def generate_many_to_many_df():\n",
    "    books_ids = []\n",
    "    genres_ids = []\n",
    "    for row in df[['id','genres']].values:\n",
    "        book_id = row[0]\n",
    "        genres = row[1].split(',')\n",
    "        for genre in genres:\n",
    "            gen_id = genres_dict.get(genre)\n",
    "            # we use is non None here since we have 0 as one of the values in the \n",
    "            # dictionary which will be treated as None if we don't specify that explicitly\n",
    "            if gen_id is not None:\n",
    "                books_ids.append(book_id)\n",
    "                genres_ids.append(gen_id)\n",
    "    return pd.DataFrame({'book_id': books_ids, 'genre_id': genres_ids})\n",
    "res_df = generate_many_to_many_df()"
   ]
  },
  {
   "cell_type": "markdown",
   "metadata": {},
   "source": [
    "Now we can finally save our last data frame to csv"
   ]
  },
  {
   "cell_type": "code",
   "execution_count": 62,
   "metadata": {},
   "outputs": [
    {
     "data": {
      "text/html": [
       "<div>\n",
       "<style scoped>\n",
       "    .dataframe tbody tr th:only-of-type {\n",
       "        vertical-align: middle;\n",
       "    }\n",
       "\n",
       "    .dataframe tbody tr th {\n",
       "        vertical-align: top;\n",
       "    }\n",
       "\n",
       "    .dataframe thead th {\n",
       "        text-align: right;\n",
       "    }\n",
       "</style>\n",
       "<table border=\"1\" class=\"dataframe\">\n",
       "  <thead>\n",
       "    <tr style=\"text-align: right;\">\n",
       "      <th></th>\n",
       "      <th>book_id</th>\n",
       "      <th>genre_id</th>\n",
       "    </tr>\n",
       "  </thead>\n",
       "  <tbody>\n",
       "    <tr>\n",
       "      <th>0</th>\n",
       "      <td>37424706</td>\n",
       "      <td>5</td>\n",
       "    </tr>\n",
       "    <tr>\n",
       "      <th>1</th>\n",
       "      <td>37424706</td>\n",
       "      <td>23</td>\n",
       "    </tr>\n",
       "    <tr>\n",
       "      <th>2</th>\n",
       "      <td>37424706</td>\n",
       "      <td>4</td>\n",
       "    </tr>\n",
       "    <tr>\n",
       "      <th>3</th>\n",
       "      <td>37424706</td>\n",
       "      <td>22</td>\n",
       "    </tr>\n",
       "    <tr>\n",
       "      <th>4</th>\n",
       "      <td>117833</td>\n",
       "      <td>8</td>\n",
       "    </tr>\n",
       "  </tbody>\n",
       "</table>\n",
       "</div>"
      ],
      "text/plain": [
       "    book_id  genre_id\n",
       "0  37424706         5\n",
       "1  37424706        23\n",
       "2  37424706         4\n",
       "3  37424706        22\n",
       "4    117833         8"
      ]
     },
     "execution_count": 62,
     "metadata": {},
     "output_type": "execute_result"
    }
   ],
   "source": [
    "res_df.to_csv('genre_book.csv', index=False)\n",
    "res_df.head()"
   ]
  },
  {
   "cell_type": "markdown",
   "metadata": {},
   "source": [
    "### Populating the table "
   ]
  },
  {
   "cell_type": "code",
   "execution_count": 63,
   "metadata": {},
   "outputs": [],
   "source": [
    "genre_book_populate_sql = \"\"\"\n",
    "LOAD DATA LOCAL INFILE '/Users/anamakarevich/genre_book.csv'\n",
    "INTO TABLE gr_genre_book \n",
    "FIELDS TERMINATED BY ','\n",
    "    ENCLOSED BY '\"'\n",
    "LINES TERMINATED BY '\\n'\n",
    "IGNORE 1 ROWS\n",
    "(book_id, genre_id)\n",
    "\"\"\""
   ]
  },
  {
   "cell_type": "markdown",
   "metadata": {},
   "source": [
    "## Results"
   ]
  },
  {
   "cell_type": "markdown",
   "metadata": {},
   "source": [
    "We can check that it all works by joining all tables. For example, let's extract all the genres for the book named \"Breakfast at Tiffany's\"."
   ]
  },
  {
   "cell_type": "code",
   "execution_count": 65,
   "metadata": {},
   "outputs": [
    {
     "data": {
      "text/html": [
       "<img src=\"gr_results.png\"/>"
      ],
      "text/plain": [
       "<IPython.core.display.Image object>"
      ]
     },
     "execution_count": 65,
     "metadata": {},
     "output_type": "execute_result"
    }
   ],
   "source": [
    "Image(url= \"gr_results.png\")"
   ]
  },
  {
   "cell_type": "code",
   "execution_count": null,
   "metadata": {},
   "outputs": [],
   "source": []
  }
 ],
 "metadata": {
  "kernelspec": {
   "display_name": "Python 3",
   "language": "python",
   "name": "python3"
  },
  "language_info": {
   "codemirror_mode": {
    "name": "ipython",
    "version": 3
   },
   "file_extension": ".py",
   "mimetype": "text/x-python",
   "name": "python",
   "nbconvert_exporter": "python",
   "pygments_lexer": "ipython3",
   "version": "3.6.5"
  }
 },
 "nbformat": 4,
 "nbformat_minor": 2
}
