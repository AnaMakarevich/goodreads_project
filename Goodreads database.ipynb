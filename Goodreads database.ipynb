{
 "cells": [
  {
   "cell_type": "markdown",
   "metadata": {},
   "source": [
    "# Goodreads Database"
   ]
  },
  {
   "cell_type": "markdown",
   "metadata": {},
   "source": [
    "## Summary\n",
    "<b>Goals</b>:\n",
    "- create a database with 3 tables:\n",
    "    - books\n",
    "    - genres\n",
    "    - book-genre pairs  \n",
    "    \n",
    "<b>Source data</b>: \n",
    "- csv file for GoodReads created in Phase 1 of the project (link)  \n",
    "\n",
    "<b>Implementation:</b>  \n",
    "For this purposes we used Amazon RDS instance with MySQL rdbms. We need to designe the schema, implement this schema on the existing instance and then populate the created tables with our data. "
   ]
  },
  {
   "cell_type": "markdown",
   "metadata": {},
   "source": [
    "## DB Schema"
   ]
  },
  {
   "cell_type": "code",
   "execution_count": 15,
   "metadata": {},
   "outputs": [
    {
     "data": {
      "text/html": [
       "<h3>ER-diagram</h3>"
      ],
      "text/plain": [
       "<IPython.core.display.HTML object>"
      ]
     },
     "execution_count": 15,
     "metadata": {},
     "output_type": "execute_result"
    }
   ],
   "source": [
    "from IPython.display import Image\n",
    "from IPython.core.display import HTML \n",
    "HTML(\"<h3>ER-diagram</h3>\")"
   ]
  },
  {
   "cell_type": "code",
   "execution_count": 16,
   "metadata": {},
   "outputs": [
    {
     "data": {
      "text/html": [
       "<img src=\"gr_erd.png\"/>"
      ],
      "text/plain": [
       "<IPython.core.display.Image object>"
      ]
     },
     "execution_count": 16,
     "metadata": {},
     "output_type": "execute_result"
    }
   ],
   "source": [
    "Image(url= \"gr_erd.png\")"
   ]
  },
  {
   "cell_type": "markdown",
   "metadata": {},
   "source": [
    "### Books table creation script"
   ]
  },
  {
   "cell_type": "raw",
   "metadata": {},
   "source": [
    "CREATE TABLE bidb.gr_books (\n",
    "\tbook_id BIGINT NOT NULL,\n",
    "\ttitle varchar(255) NOT NULL,\n",
    "\treviews_cnt INT NULL,\n",
    "\tratings_cnt INT NULL,\n",
    "\tpub_year INT NULL,\n",
    "\tavg_rating FLOAT NULL,\n",
    "\talt_avg_rating FLOAT NULL,\n",
    "\tauthor_1_name varchar(100) NULL,\n",
    "\tauthor_1_avg_rating FLOAT NULL,\n",
    "\tCONSTRAINT gr_books_PK PRIMARY KEY (book_id)\n",
    ")\n",
    "ENGINE=InnoDB\n",
    "DEFAULT CHARSET=utf8\n",
    "COLLATE=utf8_general_ci;"
   ]
  },
  {
   "cell_type": "markdown",
   "metadata": {},
   "source": [
    "### Genres table creation script"
   ]
  },
  {
   "cell_type": "raw",
   "metadata": {},
   "source": [
    "CREATE TABLE bidb.gr_genres (\n",
    "\tgenre_id varchar(100) NOT NULL,\n",
    "\tname varchar(100) NULL,\n",
    "\tCONSTRAINT gr_genres_PK PRIMARY KEY (genre_id)\n",
    ")\n",
    "ENGINE=InnoDB\n",
    "DEFAULT CHARSET=utf8\n",
    "COLLATE=utf8_general_ci;"
   ]
  },
  {
   "cell_type": "markdown",
   "metadata": {},
   "source": [
    "### Genre-book table (many-to-many relationship)"
   ]
  },
  {
   "cell_type": "raw",
   "metadata": {},
   "source": [
    "CREATE TABLE bidb.gr_genre_book (\n",
    "\tbook_id BIGINT NOT NULL,\n",
    "\tgenre_id VARCHAR(100) NOT NULL,\n",
    "\tid BIGINT NOT NULL AUTO_INCREMENT,\n",
    "\tCONSTRAINT gr_genre_book_PK PRIMARY KEY (id),\n",
    "\tCONSTRAINT gr_genre_book_gr_books_FK FOREIGN KEY (book_id) REFERENCES bidb.gr_books(book_id),\n",
    "\tCONSTRAINT gr_genre_book_gr_genres_FK FOREIGN KEY (genre_id) REFERENCES bidb.gr_genres(genre_id)\n",
    ")\n",
    "ENGINE=InnoDB\n",
    "DEFAULT CHARSET=utf8\n",
    "COLLATE=utf8_general_ci;"
   ]
  },
  {
   "cell_type": "markdown",
   "metadata": {},
   "source": [
    "## Step 1: Create books table\n",
    "### Preparing the data\n",
    "For the books table we alredy have books ids, so we can re-use them. Since we're going to create a separate table for genres, we need to exclude these columns. This can be done is various ways. "
   ]
  },
  {
   "cell_type": "code",
   "execution_count": 1,
   "metadata": {},
   "outputs": [],
   "source": [
    "# Import the necessray libraries\n",
    "import pandas as pd\n",
    "#import numpy as np"
   ]
  },
  {
   "cell_type": "code",
   "execution_count": 21,
   "metadata": {},
   "outputs": [],
   "source": [
    "# read in the csv file prepared in Phase 1 of the project\n",
    "df = pd.read_csv(\"gr_books_v4.csv\")"
   ]
  },
  {
   "cell_type": "code",
   "execution_count": 22,
   "metadata": {},
   "outputs": [
    {
     "data": {
      "text/plain": [
       "Index(['id', 'title', 'reviews_cnt', 'ratings_cnt', 'pub_year', 'avg_rating',\n",
       "       'alt_avg_rating', 'author1_name', 'author1_role', 'author1_avg_rating',\n",
       "       'author2_name', 'author2_role', 'author2_avg_rating', 'author3_name',\n",
       "       'author3_role', 'author3_avg_rating', 'genres', 'Genre_1', 'Genre_2',\n",
       "       'Genre_3', 'Genre_4', 'Genre_5', 'Genre_6', 'Genre_7', 'Genre_8',\n",
       "       'Genre_9', 'Genre_10', 'Genre_11'],\n",
       "      dtype='object')"
      ]
     },
     "execution_count": 22,
     "metadata": {},
     "output_type": "execute_result"
    }
   ],
   "source": [
    "# show the columns that we have now\n",
    "df.columns"
   ]
  },
  {
   "cell_type": "markdown",
   "metadata": {},
   "source": [
    "For our books table we only need columns 1-8 and 10. We exclude author1_role becuse it's irrelevant for our purposes. "
   ]
  },
  {
   "cell_type": "code",
   "execution_count": 27,
   "metadata": {},
   "outputs": [
    {
     "data": {
      "text/plain": [
       "['id',\n",
       " 'title',\n",
       " 'reviews_cnt',\n",
       " 'ratings_cnt',\n",
       " 'pub_year',\n",
       " 'avg_rating',\n",
       " 'alt_avg_rating',\n",
       " 'author1_name',\n",
       " 'author1_avg_rating']"
      ]
     },
     "execution_count": 27,
     "metadata": {},
     "output_type": "execute_result"
    }
   ],
   "source": [
    "columns = list(df.columns)\n",
    "books_columns = columns[:8] + [columns[9]]\n",
    "books_columns"
   ]
  },
  {
   "cell_type": "markdown",
   "metadata": {},
   "source": [
    "Now we only need to save it to a file again: "
   ]
  },
  {
   "cell_type": "code",
   "execution_count": 29,
   "metadata": {},
   "outputs": [
    {
     "data": {
      "text/html": [
       "<div>\n",
       "<style scoped>\n",
       "    .dataframe tbody tr th:only-of-type {\n",
       "        vertical-align: middle;\n",
       "    }\n",
       "\n",
       "    .dataframe tbody tr th {\n",
       "        vertical-align: top;\n",
       "    }\n",
       "\n",
       "    .dataframe thead th {\n",
       "        text-align: right;\n",
       "    }\n",
       "</style>\n",
       "<table border=\"1\" class=\"dataframe\">\n",
       "  <thead>\n",
       "    <tr style=\"text-align: right;\">\n",
       "      <th></th>\n",
       "      <th>id</th>\n",
       "      <th>title</th>\n",
       "      <th>reviews_cnt</th>\n",
       "      <th>ratings_cnt</th>\n",
       "      <th>pub_year</th>\n",
       "      <th>avg_rating</th>\n",
       "      <th>alt_avg_rating</th>\n",
       "      <th>author1_name</th>\n",
       "      <th>author1_avg_rating</th>\n",
       "    </tr>\n",
       "  </thead>\n",
       "  <tbody>\n",
       "    <tr>\n",
       "      <th>0</th>\n",
       "      <td>37424706</td>\n",
       "      <td>The Art of Gathering: How We Meet and Why It M...</td>\n",
       "      <td>1367</td>\n",
       "      <td>23</td>\n",
       "      <td>NaN</td>\n",
       "      <td>4.30</td>\n",
       "      <td>4.304348</td>\n",
       "      <td>Priya Parker</td>\n",
       "      <td>4.30</td>\n",
       "    </tr>\n",
       "    <tr>\n",
       "      <th>1</th>\n",
       "      <td>117833</td>\n",
       "      <td>The Master and Margarita</td>\n",
       "      <td>331567</td>\n",
       "      <td>178007</td>\n",
       "      <td>1967.0</td>\n",
       "      <td>4.32</td>\n",
       "      <td>4.316718</td>\n",
       "      <td>Mikhail Bulgakov</td>\n",
       "      <td>4.25</td>\n",
       "    </tr>\n",
       "    <tr>\n",
       "      <th>2</th>\n",
       "      <td>18632929</td>\n",
       "      <td>Kaip atpažinti psichopatą</td>\n",
       "      <td>295551</td>\n",
       "      <td>96957</td>\n",
       "      <td>2012.0</td>\n",
       "      <td>3.92</td>\n",
       "      <td>3.922079</td>\n",
       "      <td>Jon Ronson</td>\n",
       "      <td>3.90</td>\n",
       "    </tr>\n",
       "    <tr>\n",
       "      <th>3</th>\n",
       "      <td>1953</td>\n",
       "      <td>A Tale of Two Cities</td>\n",
       "      <td>1240390</td>\n",
       "      <td>710415</td>\n",
       "      <td>1859.0</td>\n",
       "      <td>3.82</td>\n",
       "      <td>3.820596</td>\n",
       "      <td>Charles Dickens</td>\n",
       "      <td>3.87</td>\n",
       "    </tr>\n",
       "    <tr>\n",
       "      <th>4</th>\n",
       "      <td>5130</td>\n",
       "      <td>Island</td>\n",
       "      <td>50444</td>\n",
       "      <td>18565</td>\n",
       "      <td>1962.0</td>\n",
       "      <td>3.87</td>\n",
       "      <td>3.866792</td>\n",
       "      <td>Aldous Huxley</td>\n",
       "      <td>3.98</td>\n",
       "    </tr>\n",
       "  </tbody>\n",
       "</table>\n",
       "</div>"
      ],
      "text/plain": [
       "         id                                              title  reviews_cnt  \\\n",
       "0  37424706  The Art of Gathering: How We Meet and Why It M...         1367   \n",
       "1    117833                           The Master and Margarita       331567   \n",
       "2  18632929                          Kaip atpažinti psichopatą       295551   \n",
       "3      1953                               A Tale of Two Cities      1240390   \n",
       "4      5130                                             Island        50444   \n",
       "\n",
       "   ratings_cnt  pub_year  avg_rating  alt_avg_rating      author1_name  \\\n",
       "0           23       NaN        4.30        4.304348      Priya Parker   \n",
       "1       178007    1967.0        4.32        4.316718  Mikhail Bulgakov   \n",
       "2        96957    2012.0        3.92        3.922079        Jon Ronson   \n",
       "3       710415    1859.0        3.82        3.820596   Charles Dickens   \n",
       "4        18565    1962.0        3.87        3.866792     Aldous Huxley   \n",
       "\n",
       "   author1_avg_rating  \n",
       "0                4.30  \n",
       "1                4.25  \n",
       "2                3.90  \n",
       "3                3.87  \n",
       "4                3.98  "
      ]
     },
     "execution_count": 29,
     "metadata": {},
     "output_type": "execute_result"
    }
   ],
   "source": [
    "books_only = df[books_columns]\n",
    "books_only.to_csv('books_only.csv', index = False)\n",
    "books_only.head()"
   ]
  },
  {
   "cell_type": "markdown",
   "metadata": {},
   "source": [
    "### Populating the table"
   ]
  },
  {
   "cell_type": "raw",
   "metadata": {},
   "source": [
    "LOAD DATA LOCAL INFILE '/Users/anamakarevich/gr_books_only.csv'\n",
    "INTO TABLE gr_books\n",
    "FIELDS TERMINATED BY ','\n",
    "    ENCLOSED BY '\"'\n",
    "LINES TERMINATED BY '\\n'\n",
    "IGNORE 1 ROWS\n",
    "(book_id, title, reviews_cnt, ratings_cnt, pub_year, avg_rating, alt_avg_rating, author_1_name, author_1_avg_rating)"
   ]
  },
  {
   "cell_type": "code",
   "execution_count": null,
   "metadata": {},
   "outputs": [],
   "source": []
  }
 ],
 "metadata": {
  "kernelspec": {
   "display_name": "Python 3",
   "language": "python",
   "name": "python3"
  },
  "language_info": {
   "codemirror_mode": {
    "name": "ipython",
    "version": 3
   },
   "file_extension": ".py",
   "mimetype": "text/x-python",
   "name": "python",
   "nbconvert_exporter": "python",
   "pygments_lexer": "ipython3",
   "version": "3.6.5"
  }
 },
 "nbformat": 4,
 "nbformat_minor": 2
}
