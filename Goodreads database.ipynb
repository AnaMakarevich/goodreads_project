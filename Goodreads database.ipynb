{
 "cells": [
  {
   "cell_type": "markdown",
   "metadata": {},
   "source": [
    "# Goodreads Database"
   ]
  },
  {
   "cell_type": "markdown",
   "metadata": {},
   "source": [
    "## Summary\n",
    "<b>Goals</b>:\n",
    "- create a database with 5 tables:\n",
    "    - book clubs\n",
    "    - books\n",
    "    - book-bookclub pairs\n",
    "    - genres\n",
    "    - book-genre pairs  \n",
    "    \n",
    "<b>Source data</b>: \n",
    "- csv file for GoodReads created in Phase 1 of the project (link)  \n",
    "\n",
    "<b>Implementation:</b>  \n",
    "For this purposes there has been used Amazon RDS instance with MySQL rdbms. We need to designe the schema, implement this schema on the existing instance and then populate the created tables with our data.  "
   ]
  },
  {
   "cell_type": "markdown",
   "metadata": {},
   "source": [
    "## DB Schema"
   ]
  },
  {
   "cell_type": "code",
   "execution_count": 4,
   "metadata": {},
   "outputs": [
    {
     "data": {
      "text/html": [
       "<h3>ER-diagram</h3>"
      ],
      "text/plain": [
       "<IPython.core.display.HTML object>"
      ]
     },
     "execution_count": 4,
     "metadata": {},
     "output_type": "execute_result"
    }
   ],
   "source": [
    "from IPython.display import Image\n",
    "from IPython.core.display import HTML \n",
    "HTML(\"<h3>ER-diagram</h3>\")"
   ]
  },
  {
   "cell_type": "code",
   "execution_count": 5,
   "metadata": {},
   "outputs": [
    {
     "data": {
      "text/html": [
       "<img src=\"er_goodreads.png\"/>"
      ],
      "text/plain": [
       "<IPython.core.display.Image object>"
      ]
     },
     "execution_count": 5,
     "metadata": {},
     "output_type": "execute_result"
    }
   ],
   "source": [
    "Image(url= \"er_goodreads.png\")"
   ]
  },
  {
   "cell_type": "markdown",
   "metadata": {},
   "source": [
    "### Book clubs creation script"
   ]
  },
  {
   "cell_type": "code",
   "execution_count": 6,
   "metadata": {},
   "outputs": [],
   "source": [
    "book_club_sql = \"\"\"\n",
    "CREATE TABLE GoodReadsDB.book_club (\n",
    "\tbook_club_id INT NOT NULL AUTO_INCREMENT,\n",
    "\tclub_name varchar(255) NOT NULL,  \n",
    "\tCONSTRAINT gr_books_PK PRIMARY KEY (book_club_id)\n",
    ")  \n",
    "ENGINE=InnoDB  \n",
    "DEFAULT CHARSET=utf8  \n",
    "COLLATE=utf8_general_ci;\n",
    "\"\"\""
   ]
  },
  {
   "cell_type": "markdown",
   "metadata": {},
   "source": [
    "### Books table creation script"
   ]
  },
  {
   "cell_type": "code",
   "execution_count": 7,
   "metadata": {},
   "outputs": [],
   "source": [
    "books_table_sql =\"\"\"\n",
    "CREATE TABLE GoodReadsDB.book (\n",
    "\tbook_id BIGINT NOT NULL,\n",
    "\ttitle varchar(255) NOT NULL,  \n",
    "\treviews_cnt INT NULL,  \n",
    "\tratings_cnt INT NULL,  \n",
    "\tpub_year INT NULL,  \n",
    "\tavg_rating FLOAT NULL,  \n",
    "\talt_avg_rating FLOAT NULL,  \n",
    "\tauthor_1_name varchar(100) NULL,  \n",
    "\tauthor_1_avg_rating FLOAT NULL,  \n",
    "\tCONSTRAINT gr_books_PK PRIMARY KEY (book_id)\n",
    ")  \n",
    "ENGINE=InnoDB  \n",
    "DEFAULT CHARSET=utf8  \n",
    "COLLATE=utf8_general_ci;\n",
    "\"\"\""
   ]
  },
  {
   "cell_type": "markdown",
   "metadata": {},
   "source": [
    "### BookClub-Book table creation script"
   ]
  },
  {
   "cell_type": "code",
   "execution_count": 8,
   "metadata": {},
   "outputs": [],
   "source": [
    "bookclub_book_table_sql =\"\"\"\n",
    "CREATE TABLE GoodReadsDB.book_club_book (\n",
    "\tid BIGINT NOT NULL AUTO_INCREMENT,\n",
    "\tbook_id BIGINT NOT NULL,\n",
    "\tbook_club_id INT NOT NULL,\n",
    "\tCONSTRAINT gr_books_PK PRIMARY KEY (id),\n",
    "\tCONSTRAINT book_club_book_book_FK FOREIGN KEY (book_id) REFERENCES GoodReadsDB.book(book_id),    \n",
    "\tCONSTRAINT book_club_book_book_club_FK FOREIGN KEY (book_club_id) REFERENCES GoodReadsDB.book_club(book_club_id)        \n",
    ")  \n",
    "ENGINE=InnoDB  \n",
    "DEFAULT CHARSET=utf8  \n",
    "COLLATE=utf8_general_ci;\n",
    "\"\"\""
   ]
  },
  {
   "cell_type": "markdown",
   "metadata": {},
   "source": [
    "### Genres table creation script"
   ]
  },
  {
   "cell_type": "code",
   "execution_count": 9,
   "metadata": {},
   "outputs": [],
   "source": [
    "genres_table_sql = \"\"\"\n",
    "CREATE TABLE GoodReadsDB.genre (\n",
    "\tgenre_id INT NOT NULL,\n",
    "\tname varchar(100) NULL,\n",
    "\tCONSTRAINT gr_genres_PK PRIMARY KEY (genre_id)\n",
    ")\n",
    "ENGINE=InnoDB\n",
    "DEFAULT CHARSET=utf8\n",
    "COLLATE=utf8_general_ci;\n",
    "\"\"\""
   ]
  },
  {
   "cell_type": "markdown",
   "metadata": {},
   "source": [
    "### Genre-book table (many-to-many relationship)"
   ]
  },
  {
   "cell_type": "code",
   "execution_count": 10,
   "metadata": {},
   "outputs": [],
   "source": [
    "genre_book_sql = \"\"\"\n",
    "CREATE TABLE GoodReadsDB.genre_book (\n",
    "\tid BIGINT NOT NULL AUTO_INCREMENT,\n",
    "\tbook_id BIGINT NOT NULL,\n",
    "\tgenre_id INT NOT NULL,\n",
    "\tCONSTRAINT genre_book_PK PRIMARY KEY (id),\n",
    "\tCONSTRAINT genre_book_book_FK FOREIGN KEY (book_id) REFERENCES GoodReadsDB.book(book_id),\n",
    "\tCONSTRAINT genre_book_genre_FK FOREIGN KEY (genre_id) REFERENCES GoodReadsDB.genre(genre_id)\n",
    ")\n",
    "ENGINE=InnoDB\n",
    "DEFAULT CHARSET=utf8\n",
    "COLLATE=utf8_general_ci;\n",
    "\"\"\""
   ]
  },
  {
   "cell_type": "markdown",
   "metadata": {},
   "source": [
    "## Step 1: Book clubs table"
   ]
  },
  {
   "cell_type": "markdown",
   "metadata": {},
   "source": [
    "For this step we only need to create a .csv with one single column with book club names. We can the populate the table with this data as follows:"
   ]
  },
  {
   "cell_type": "code",
   "execution_count": 149,
   "metadata": {},
   "outputs": [],
   "source": [
    "book_clubs = pd.DataFrame({'club_name': [\"Bertelsmann Data Science book readers\",\n",
    "                                          \"Gone with a Book\", \n",
    "                                          \"Pop Sugar's Annual Ultimate Reading Challenge\",\n",
    "                                          \"Reading with Style\"]})"
   ]
  },
  {
   "cell_type": "code",
   "execution_count": 150,
   "metadata": {},
   "outputs": [
    {
     "data": {
      "text/html": [
       "<div>\n",
       "<style scoped>\n",
       "    .dataframe tbody tr th:only-of-type {\n",
       "        vertical-align: middle;\n",
       "    }\n",
       "\n",
       "    .dataframe tbody tr th {\n",
       "        vertical-align: top;\n",
       "    }\n",
       "\n",
       "    .dataframe thead th {\n",
       "        text-align: right;\n",
       "    }\n",
       "</style>\n",
       "<table border=\"1\" class=\"dataframe\">\n",
       "  <thead>\n",
       "    <tr style=\"text-align: right;\">\n",
       "      <th></th>\n",
       "      <th>club_name</th>\n",
       "    </tr>\n",
       "  </thead>\n",
       "  <tbody>\n",
       "    <tr>\n",
       "      <th>0</th>\n",
       "      <td>Bertelsmann Data Science book readers</td>\n",
       "    </tr>\n",
       "    <tr>\n",
       "      <th>1</th>\n",
       "      <td>Gone with a Book</td>\n",
       "    </tr>\n",
       "    <tr>\n",
       "      <th>2</th>\n",
       "      <td>Pop Sugar's Annual Ultimate Reading Challenge</td>\n",
       "    </tr>\n",
       "    <tr>\n",
       "      <th>3</th>\n",
       "      <td>Reading with Style</td>\n",
       "    </tr>\n",
       "  </tbody>\n",
       "</table>\n",
       "</div>"
      ],
      "text/plain": [
       "                                       club_name\n",
       "0          Bertelsmann Data Science book readers\n",
       "1                               Gone with a Book\n",
       "2  Pop Sugar's Annual Ultimate Reading Challenge\n",
       "3                             Reading with Style"
      ]
     },
     "execution_count": 150,
     "metadata": {},
     "output_type": "execute_result"
    }
   ],
   "source": [
    "book_clubs"
   ]
  },
  {
   "cell_type": "code",
   "execution_count": 11,
   "metadata": {},
   "outputs": [],
   "source": [
    "book_club_populate_script_sql = \"\"\"\n",
    "LOAD DATA LOCAL INFILE '/Users/anamakarevich/UdacityProjects/book_clubs.csv'\n",
    "INTO TABLE book_club \n",
    "FIELDS TERMINATED BY ','\n",
    "    ENCLOSED BY '\"'\n",
    "LINES TERMINATED BY '\\n'\n",
    "IGNORE 1 ROWS\n",
    "(club_name)\n",
    "\"\"\""
   ]
  },
  {
   "cell_type": "markdown",
   "metadata": {},
   "source": [
    "Since we're using autoincrement for this table for the id field, the book club names will be assigned ids from 1 to 4 (not 0 to 3 as shown in the index). We will need that information in step 2."
   ]
  },
  {
   "cell_type": "markdown",
   "metadata": {},
   "source": [
    "## Step 2: Book table"
   ]
  },
  {
   "cell_type": "markdown",
   "metadata": {},
   "source": [
    "### Preparing the data"
   ]
  },
  {
   "cell_type": "code",
   "execution_count": 135,
   "metadata": {},
   "outputs": [],
   "source": [
    "import pandas as pd"
   ]
  },
  {
   "cell_type": "code",
   "execution_count": 235,
   "metadata": {},
   "outputs": [],
   "source": [
    "# list the names of the source files in the same order we listed the books clubs\n",
    "file_names = ['gr_books_v4.csv', 'gr_books_gone_with_book_v4.csv',\n",
    "              'gr_books_pop_sugar_challenge_v4.csv',\n",
    "              'gr_books_reading_with_style_v4.csv']\n",
    "# list the new names for the cleaned data\n",
    "new_file_names = ['bert_books_clean.csv', 'gone_with_the_book_books_clean.csv',\n",
    "                 'pop_sugar_challenge_books_clean.csv', 'reading_with_style_books_clean.csv']\n",
    "book_clubs_data = [pd.read_csv(x) for x in file_names]\n",
    "number_of_clubs = len(book_clubs_data)"
   ]
  },
  {
   "cell_type": "markdown",
   "metadata": {},
   "source": [
    "First we need to unify the book ids across different book clubs. I.e. the same book can have the same title, but different id depending on edition. Since all the data is about the book, we don't care about edition at all. The idea is to iterate through the data frames and compare them with one another replacing the ids for the duplicate book in the first one with the ids from the second one.  "
   ]
  },
  {
   "cell_type": "code",
   "execution_count": 236,
   "metadata": {},
   "outputs": [],
   "source": [
    "def check_consistency(dataframes, column_name) -> None:\n",
    "    \"\"\"Checks if the dataset is consistent (each title is associated with just one id)\n",
    "    \"\"\"\n",
    "    for i in range(number_of_clubs):\n",
    "        current_df = dataframes[i]\n",
    "        current_set = set(current_df[column_name])\n",
    "        for j in range(number_of_clubs):\n",
    "            if i!=j:\n",
    "                other_df = dataframes[j]\n",
    "                common_titles = current_set.intersection(other_df[column_name])\n",
    "                if len(common_titles) > 0: \n",
    "                    for title in common_titles:\n",
    "                        titles_equal = (int(current_df[current_df.title==title]['id']) ==\n",
    "                                        int(other_df[other_df.title==title]['id']))                                        \n",
    "                        if not titles_equal:\n",
    "                            print(\"Data set is inconsistent\")\n",
    "                            return\n",
    "    print(\"Data set is consistent\")"
   ]
  },
  {
   "cell_type": "code",
   "execution_count": 271,
   "metadata": {},
   "outputs": [],
   "source": [
    "def unify(df_1, df_2, name, col_names):\n",
    "    \"\"\"Replace the id in the first passed dataframe with the id in the secon one for the given name    \n",
    "    \"\"\"\n",
    "    for col_name in col_names:\n",
    "        # replace first occurence with second\n",
    "        new_value = int(df_2[df_2.title==name][col_name])\n",
    "        df_1.loc[df_1.title==name, col_name] = new_value"
   ]
  },
  {
   "cell_type": "code",
   "execution_count": 239,
   "metadata": {},
   "outputs": [
    {
     "name": "stdout",
     "output_type": "stream",
     "text": [
      "Data set is inconsistent\n"
     ]
    }
   ],
   "source": [
    "check_consistency(book_clubs_data, 'title')"
   ]
  },
  {
   "cell_type": "code",
   "execution_count": 272,
   "metadata": {},
   "outputs": [],
   "source": [
    "def unify_books(dataframes, column_name):\n",
    "    for i in range(number_of_clubs):\n",
    "        current_df = dataframes[i]\n",
    "        current_set = set(current_df[column_name])\n",
    "        for j in range(number_of_clubs):\n",
    "            if i!=j:\n",
    "                other_df = dataframes[j]\n",
    "                common_titles = current_set.intersection(other_df[column_name])\n",
    "                if len(common_titles) > 0: \n",
    "                    for title in common_titles:\n",
    "                        unify(other_df, current_df, title, ('id',\n",
    "                                                                    'reviews_cnt',\n",
    "                                                                    'ratings_cnt', \n",
    "                                                                    'alt_avg_rating',\n",
    "                                                                    'avg_rating'\n",
    "                                                                   ))\n",
    "    return dataframes"
   ]
  },
  {
   "cell_type": "code",
   "execution_count": 273,
   "metadata": {},
   "outputs": [],
   "source": [
    "unified_dataset = unify_books(book_clubs_data, 'title')"
   ]
  },
  {
   "cell_type": "code",
   "execution_count": 274,
   "metadata": {},
   "outputs": [
    {
     "name": "stdout",
     "output_type": "stream",
     "text": [
      "Data set is consistent\n"
     ]
    }
   ],
   "source": [
    "check_consistency(unified_dataset, 'title')"
   ]
  },
  {
   "cell_type": "markdown",
   "metadata": {},
   "source": [
    "Now we need to assign each book to a book club. Since we know exactly the ids of the books clubs and the dataframes are listed in the same order as the book clubs, this can be simply done with the loop.\n",
    "We will also select only the columns we need for the proecessing and save it to files. "
   ]
  },
  {
   "cell_type": "code",
   "execution_count": 275,
   "metadata": {},
   "outputs": [],
   "source": [
    "unused_columns = ['index', 'author1_role', 'author2_name','author2_role',\n",
    "                  'author2_avg_rating', 'author3_name', \n",
    "                  'author3_role', 'author3_avg_rating']"
   ]
  },
  {
   "cell_type": "code",
   "execution_count": 305,
   "metadata": {},
   "outputs": [],
   "source": [
    "for i in range(number_of_clubs):    \n",
    "    current_df = unified_dataset[i]\n",
    "    selection = list(set(current_df) - set(unused_columns))\n",
    "    selection.sort()\n",
    "    current_df['book_club_id'] = i+1\n",
    "    current_df.to_csv(new_file_names[i],index=False, columns = selection)"
   ]
  },
  {
   "cell_type": "code",
   "execution_count": 307,
   "metadata": {},
   "outputs": [],
   "source": [
    "clean_dataset = [pd.read_csv(x) for x in new_file_names]"
   ]
  },
  {
   "cell_type": "markdown",
   "metadata": {},
   "source": [
    "Now we need to extract only the books (excluding the book clubs and genres information)"
   ]
  },
  {
   "cell_type": "code",
   "execution_count": 308,
   "metadata": {},
   "outputs": [],
   "source": [
    "book_columns = ['id', 'title','reviews_cnt',\n",
    "               'ratings_cnt', 'pub_year', 'avg_rating',\n",
    "               'alt_avg_rating',\n",
    "                'author1_name',\n",
    "                'author1_avg_rating']"
   ]
  },
  {
   "cell_type": "code",
   "execution_count": 326,
   "metadata": {},
   "outputs": [],
   "source": [
    "books = pd.concat(clean_dataset, axis=0)[book_columns].drop_duplicates().reset_index(drop=True)"
   ]
  },
  {
   "cell_type": "code",
   "execution_count": 315,
   "metadata": {},
   "outputs": [],
   "source": [
    "books.to_csv('books_only_final.csv', index = False)"
   ]
  },
  {
   "cell_type": "markdown",
   "metadata": {},
   "source": [
    "### Populating the table"
   ]
  },
  {
   "cell_type": "code",
   "execution_count": 318,
   "metadata": {},
   "outputs": [],
   "source": [
    "books_table_populate_sql = \"\"\"\n",
    "LOAD DATA LOCAL INFILE '/Users/anamakarevich/UdacityProjects/books_only_final.csv'\n",
    "INTO TABLE GoodReadsDB.book\n",
    "FIELDS TERMINATED BY ','\n",
    "    ENCLOSED BY '\"'\n",
    "LINES TERMINATED BY '\\n'\n",
    "IGNORE 1 ROWS\n",
    "(book_id, title, reviews_cnt, ratings_cnt, pub_year, avg_rating, alt_avg_rating, author_1_name, author_1_avg_rating)\n",
    "\"\"\""
   ]
  },
  {
   "cell_type": "code",
   "execution_count": 333,
   "metadata": {},
   "outputs": [],
   "source": [
    "def get_full_dataset():\n",
    "    dataframes_names = ['bert_books_clean.csv', 'gone_with_the_book_books_clean.csv',\n",
    "                        'pop_sugar_challenge_books_clean.csv', 'reading_with_style_books_clean.csv']\n",
    "    clean_dataset = [pd.read_csv(x) for x in dataframes_names]\n",
    "    all_books = pd.concat(clean_dataset, axis=0)\n",
    "    return all_books"
   ]
  },
  {
   "cell_type": "markdown",
   "metadata": {},
   "source": [
    "## Step 3: Book - book club table "
   ]
  },
  {
   "cell_type": "code",
   "execution_count": 393,
   "metadata": {},
   "outputs": [],
   "source": [
    "all_books = get_full_dataset()"
   ]
  },
  {
   "cell_type": "code",
   "execution_count": 397,
   "metadata": {},
   "outputs": [],
   "source": [
    "book_bookclub = all_books[['id','book_club_id']]"
   ]
  },
  {
   "cell_type": "code",
   "execution_count": 398,
   "metadata": {},
   "outputs": [],
   "source": [
    "book_bookclub.to_csv('book_bookclub.csv', index=False)"
   ]
  },
  {
   "cell_type": "code",
   "execution_count": 400,
   "metadata": {},
   "outputs": [],
   "source": [
    "bookclub_data_populate_sql = \"\"\"\n",
    "LOAD DATA LOCAL INFILE '/Users/anamakarevich/UdacityProjects/book_bookclub.csv'\n",
    "INTO TABLE GoodReadsDB.book_club_book\n",
    "FIELDS TERMINATED BY ','\n",
    "    ENCLOSED BY '\"'\n",
    "LINES TERMINATED BY '\\n'\n",
    "IGNORE 1 ROWS\n",
    "(book_id, book_club_id)\n",
    "\"\"\""
   ]
  },
  {
   "cell_type": "markdown",
   "metadata": {},
   "source": [
    "## Step 4: Genres table"
   ]
  },
  {
   "cell_type": "markdown",
   "metadata": {},
   "source": [
    "### Preparing the data "
   ]
  },
  {
   "cell_type": "markdown",
   "metadata": {},
   "source": [
    "For genres we need to extract all the genres present in the table and assign them some ids so that we can reference them in the book_genre table. \n",
    "First, we will create a helper function to generate the column names for genres. "
   ]
  },
  {
   "cell_type": "code",
   "execution_count": 330,
   "metadata": {},
   "outputs": [],
   "source": [
    "def get_columns(n_genres):\n",
    "    result = []\n",
    "    for i in range(1,n_genres+1):\n",
    "        result.append('Genre_'+str(i))\n",
    "    return result"
   ]
  },
  {
   "cell_type": "code",
   "execution_count": 331,
   "metadata": {},
   "outputs": [
    {
     "name": "stdout",
     "output_type": "stream",
     "text": [
      "['Genre_1', 'Genre_2', 'Genre_3', 'Genre_4', 'Genre_5', 'Genre_6', 'Genre_7', 'Genre_8', 'Genre_9', 'Genre_10', 'Genre_11']\n"
     ]
    }
   ],
   "source": [
    "# get the columns with genres\n",
    "genre_columns = get_columns(11)\n",
    "print(genre_columns)"
   ]
  },
  {
   "cell_type": "markdown",
   "metadata": {},
   "source": [
    "Next we actually extract the values of the genres for all the books and create a set of genres."
   ]
  },
  {
   "cell_type": "code",
   "execution_count": 334,
   "metadata": {},
   "outputs": [],
   "source": [
    "all_books = get_full_dataset()"
   ]
  },
  {
   "cell_type": "code",
   "execution_count": 335,
   "metadata": {},
   "outputs": [
    {
     "name": "stdout",
     "output_type": "stream",
     "text": [
      "{'thriller', '20th-century', 'science-fiction', 'adult', 'horror', 'humor', 'paranormal', 'american', 'science', 'biography', 'novel', 'gothic', 'classics', 'philosophy', 'dnf', '19th-century', 'young-adult', 'literature', 'women', 'mystery', 'contemporary', 'crime', 'fiction', 'dystopia', 'audio-books', 'non-fiction', 'children', 'politics', 'drama', 'british', 'history', 'translated', 'economics', 'short-stories', 'psychology', 'adventure', 'personal-development', 'france', 'romance', 'christmas-books', 'magic', 'germany', 'chick-lit', 'fantasy', 'wwii'}\n"
     ]
    }
   ],
   "source": [
    "# extract just the genres (replacinng None with empty string so that it's easy to remove it later)\n",
    "set_of_genres = set(all_books[genre_columns].fillna('').values.flatten())\n",
    "# remove empty strings\n",
    "set_of_genres.remove('')\n",
    "print(set_of_genres)"
   ]
  },
  {
   "cell_type": "markdown",
   "metadata": {},
   "source": [
    "We have successfully extracted our genres and ready to create a source file for genres. The last thing we need to do is to assign ids to genres which can be done very easily when creating a data frame.  \n",
    "Note: we could have created ids automatically in the db, but I decided to try both ways. The last table with use automatic id creation with autoincrement. "
   ]
  },
  {
   "cell_type": "code",
   "execution_count": 336,
   "metadata": {},
   "outputs": [
    {
     "data": {
      "text/html": [
       "<div>\n",
       "<style scoped>\n",
       "    .dataframe tbody tr th:only-of-type {\n",
       "        vertical-align: middle;\n",
       "    }\n",
       "\n",
       "    .dataframe tbody tr th {\n",
       "        vertical-align: top;\n",
       "    }\n",
       "\n",
       "    .dataframe thead th {\n",
       "        text-align: right;\n",
       "    }\n",
       "</style>\n",
       "<table border=\"1\" class=\"dataframe\">\n",
       "  <thead>\n",
       "    <tr style=\"text-align: right;\">\n",
       "      <th></th>\n",
       "      <th>genre_id</th>\n",
       "      <th>name</th>\n",
       "    </tr>\n",
       "  </thead>\n",
       "  <tbody>\n",
       "    <tr>\n",
       "      <th>0</th>\n",
       "      <td>0</td>\n",
       "      <td>thriller</td>\n",
       "    </tr>\n",
       "    <tr>\n",
       "      <th>1</th>\n",
       "      <td>1</td>\n",
       "      <td>20th-century</td>\n",
       "    </tr>\n",
       "    <tr>\n",
       "      <th>2</th>\n",
       "      <td>2</td>\n",
       "      <td>science-fiction</td>\n",
       "    </tr>\n",
       "    <tr>\n",
       "      <th>3</th>\n",
       "      <td>3</td>\n",
       "      <td>adult</td>\n",
       "    </tr>\n",
       "    <tr>\n",
       "      <th>4</th>\n",
       "      <td>4</td>\n",
       "      <td>horror</td>\n",
       "    </tr>\n",
       "  </tbody>\n",
       "</table>\n",
       "</div>"
      ],
      "text/plain": [
       "   genre_id             name\n",
       "0         0         thriller\n",
       "1         1     20th-century\n",
       "2         2  science-fiction\n",
       "3         3            adult\n",
       "4         4           horror"
      ]
     },
     "execution_count": 336,
     "metadata": {},
     "output_type": "execute_result"
    }
   ],
   "source": [
    "genres_df = pd.DataFrame({'genre_id':range(len(set_of_genres)), 'name': list(set_of_genres)})\n",
    "# save to .csv\n",
    "genres_df.to_csv('genres_only.csv', index = False)\n",
    "genres_df.head()"
   ]
  },
  {
   "cell_type": "markdown",
   "metadata": {},
   "source": [
    "### Populating the table "
   ]
  },
  {
   "cell_type": "code",
   "execution_count": 338,
   "metadata": {},
   "outputs": [],
   "source": [
    "genres_table_populate_sql = \"\"\"\n",
    "LOAD DATA LOCAL INFILE '/Users/anamakarevich/UdacityProjects/genres_only.csv'\n",
    "INTO TABLE GoodReadsDB.genre\n",
    "FIELDS TERMINATED BY ','\n",
    "    ENCLOSED BY '\"'\n",
    "LINES TERMINATED BY '\\n'\n",
    "IGNORE 1 ROWS\n",
    "(genre_id, name)\n",
    "\"\"\""
   ]
  },
  {
   "cell_type": "markdown",
   "metadata": {},
   "source": [
    "## Step 3: Create genre-book table "
   ]
  },
  {
   "cell_type": "markdown",
   "metadata": {},
   "source": [
    "The last table is the most complicates since we have many to many relationship here which should be implemented with the additional table that matches books ids to genres ids.  \n",
    "The first thing to do is to create a lookup dictionary for genres and ids so that we can build the required table. "
   ]
  },
  {
   "cell_type": "code",
   "execution_count": 339,
   "metadata": {},
   "outputs": [],
   "source": [
    "# create dictionary for genres for fast lookup\n",
    "genres_dict = dict(zip(genres_df.name, genres_df.genre_id))"
   ]
  },
  {
   "cell_type": "code",
   "execution_count": 340,
   "metadata": {},
   "outputs": [
    {
     "name": "stdout",
     "output_type": "stream",
     "text": [
      "{'thriller': 0, '20th-century': 1, 'science-fiction': 2, 'adult': 3, 'horror': 4, 'humor': 5, 'paranormal': 6, 'american': 7, 'science': 8, 'biography': 9, 'novel': 10, 'gothic': 11, 'classics': 12, 'philosophy': 13, 'dnf': 14, '19th-century': 15, 'young-adult': 16, 'literature': 17, 'women': 18, 'mystery': 19, 'contemporary': 20, 'crime': 21, 'fiction': 22, 'dystopia': 23, 'audio-books': 24, 'non-fiction': 25, 'children': 26, 'politics': 27, 'drama': 28, 'british': 29, 'history': 30, 'translated': 31, 'economics': 32, 'short-stories': 33, 'psychology': 34, 'adventure': 35, 'personal-development': 36, 'france': 37, 'romance': 38, 'christmas-books': 39, 'magic': 40, 'germany': 41, 'chick-lit': 42, 'fantasy': 43, 'wwii': 44}\n"
     ]
    }
   ],
   "source": [
    "print(genres_dict)"
   ]
  },
  {
   "cell_type": "markdown",
   "metadata": {},
   "source": [
    "Next we will write a function that will actually match the book ids and genre ids. To do that, we need to iterate though through the rows of the original data frame - we only need two columns: id (book id) and genres which contains a list of genres. We user .values instead of .iterrows() because .values actually provides us with the numpy array which is more efficient for this purpose. And that's why we address the columns by numbers instead of name - each row is just an array in this case. "
   ]
  },
  {
   "cell_type": "code",
   "execution_count": 389,
   "metadata": {},
   "outputs": [],
   "source": [
    "def generate_many_to_many_df(df, genres_dict):\n",
    "    books_ids = []\n",
    "    genres_ids = []\n",
    "    for row in df[['id','genres']].values:\n",
    "        book_id = row[0]\n",
    "        genres = []\n",
    "        try:\n",
    "            genres = row[1].split(',')\n",
    "        except:\n",
    "            print(\"The following row has not been parsed: \")\n",
    "            print(row[1])\n",
    "        for genre in genres:\n",
    "            gen_id = genres_dict.get(genre)\n",
    "            # we use is non None here since we have 0 as one of the values in the \n",
    "            # dictionary which will be treated as None if we don't specify that explicitly\n",
    "            if gen_id is not None:\n",
    "                books_ids.append(book_id)\n",
    "                genres_ids.append(gen_id)\n",
    "    return pd.DataFrame({'book_id': books_ids, 'genre_id': genres_ids}).drop_duplicates().reset_index(drop=True)\n",
    "#res_df = generate_many_to_many_df()"
   ]
  },
  {
   "cell_type": "code",
   "execution_count": 390,
   "metadata": {},
   "outputs": [
    {
     "name": "stdout",
     "output_type": "stream",
     "text": [
      "The following row has not been parsed: \n",
      "nan\n"
     ]
    }
   ],
   "source": [
    "book_genre = generate_many_to_many_df(all_books, genres_dict)"
   ]
  },
  {
   "cell_type": "markdown",
   "metadata": {},
   "source": [
    "Now we can finally save our last data frame to csv"
   ]
  },
  {
   "cell_type": "code",
   "execution_count": 391,
   "metadata": {},
   "outputs": [
    {
     "data": {
      "text/html": [
       "<div>\n",
       "<style scoped>\n",
       "    .dataframe tbody tr th:only-of-type {\n",
       "        vertical-align: middle;\n",
       "    }\n",
       "\n",
       "    .dataframe tbody tr th {\n",
       "        vertical-align: top;\n",
       "    }\n",
       "\n",
       "    .dataframe thead th {\n",
       "        text-align: right;\n",
       "    }\n",
       "</style>\n",
       "<table border=\"1\" class=\"dataframe\">\n",
       "  <thead>\n",
       "    <tr style=\"text-align: right;\">\n",
       "      <th></th>\n",
       "      <th>book_id</th>\n",
       "      <th>genre_id</th>\n",
       "    </tr>\n",
       "  </thead>\n",
       "  <tbody>\n",
       "    <tr>\n",
       "      <th>0</th>\n",
       "      <td>37424706</td>\n",
       "      <td>25</td>\n",
       "    </tr>\n",
       "    <tr>\n",
       "      <th>1</th>\n",
       "      <td>37424706</td>\n",
       "      <td>32</td>\n",
       "    </tr>\n",
       "    <tr>\n",
       "      <th>2</th>\n",
       "      <td>37424706</td>\n",
       "      <td>36</td>\n",
       "    </tr>\n",
       "    <tr>\n",
       "      <th>3</th>\n",
       "      <td>37424706</td>\n",
       "      <td>34</td>\n",
       "    </tr>\n",
       "    <tr>\n",
       "      <th>4</th>\n",
       "      <td>117833</td>\n",
       "      <td>22</td>\n",
       "    </tr>\n",
       "  </tbody>\n",
       "</table>\n",
       "</div>"
      ],
      "text/plain": [
       "    book_id  genre_id\n",
       "0  37424706        25\n",
       "1  37424706        32\n",
       "2  37424706        36\n",
       "3  37424706        34\n",
       "4    117833        22"
      ]
     },
     "execution_count": 391,
     "metadata": {},
     "output_type": "execute_result"
    }
   ],
   "source": [
    "book_genre.to_csv('genre_book.csv', index=False)\n",
    "book_genre.head()"
   ]
  },
  {
   "cell_type": "markdown",
   "metadata": {},
   "source": [
    "### Populating the table "
   ]
  },
  {
   "cell_type": "code",
   "execution_count": 392,
   "metadata": {},
   "outputs": [],
   "source": [
    "genre_book_populate_sql = \"\"\"\n",
    "LOAD DATA LOCAL INFILE '/Users/anamakarevich/UdacityProjects/genre_book.csv'\n",
    "INTO TABLE GoodReadsDB.genre_book\n",
    "FIELDS TERMINATED BY ','\n",
    "    ENCLOSED BY '\"'\n",
    "LINES TERMINATED BY '\\n'\n",
    "IGNORE 1 ROWS\n",
    "(book_id, genre_id)\n",
    "\"\"\""
   ]
  },
  {
   "cell_type": "code",
   "execution_count": null,
   "metadata": {},
   "outputs": [],
   "source": []
  },
  {
   "cell_type": "markdown",
   "metadata": {},
   "source": [
    "## Results"
   ]
  },
  {
   "cell_type": "markdown",
   "metadata": {},
   "source": [
    "We can check that it all works by joining all tables. For example, let's extract all the genres for the book named \"Breakfast at Tiffany's\"."
   ]
  },
  {
   "cell_type": "code",
   "execution_count": 401,
   "metadata": {},
   "outputs": [],
   "source": [
    "test_query = \"\"\"\n",
    "SELECT b.title, g.name, bc.club_name, b.avg_rating\n",
    "FROM book b\n",
    "JOIN genre_book gb ON b.book_id = gb.book_id\n",
    "JOIN genre g ON g.genre_id = gb.genre_id\n",
    "JOIN book_club_book bcb ON bcb.book_id = b.book_id\n",
    "JOIN book_club bc ON bc.book_club_id = bcb.book_club_id\n",
    "WHERE b.title = 'Breakfast at Tiffany\\'s'\n",
    "\"\"\""
   ]
  },
  {
   "cell_type": "code",
   "execution_count": 402,
   "metadata": {},
   "outputs": [
    {
     "data": {
      "text/html": [
       "<img src=\"gr_results.png\"/>"
      ],
      "text/plain": [
       "<IPython.core.display.Image object>"
      ]
     },
     "execution_count": 402,
     "metadata": {},
     "output_type": "execute_result"
    }
   ],
   "source": [
    "Image(url= \"gr_results.png\")"
   ]
  },
  {
   "cell_type": "code",
   "execution_count": null,
   "metadata": {},
   "outputs": [],
   "source": []
  }
 ],
 "metadata": {
  "kernelspec": {
   "display_name": "Python 3",
   "language": "python",
   "name": "python3"
  },
  "language_info": {
   "codemirror_mode": {
    "name": "ipython",
    "version": 3
   },
   "file_extension": ".py",
   "mimetype": "text/x-python",
   "name": "python",
   "nbconvert_exporter": "python",
   "pygments_lexer": "ipython3",
   "version": "3.6.6"
  }
 },
 "nbformat": 4,
 "nbformat_minor": 2
}
